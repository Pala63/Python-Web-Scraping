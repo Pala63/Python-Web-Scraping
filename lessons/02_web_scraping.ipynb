{
  "cells": [
    {
      "cell_type": "markdown",
      "metadata": {
        "id": "view-in-github",
        "colab_type": "text"
      },
      "source": [
        "<a href=\"https://colab.research.google.com/github/Pala63/Python-Web-Scraping/blob/main/lessons/02_web_scraping.ipynb\" target=\"_parent\"><img src=\"https://colab.research.google.com/assets/colab-badge.svg\" alt=\"Open In Colab\"/></a>"
      ]
    },
    {
      "cell_type": "markdown",
      "metadata": {
        "id": "pv9hp2dpaykf"
      },
      "source": [
        "# Web Scraping with Beautiful Soup\n",
        "\n",
        "* * *\n",
        "\n",
        "### Icons used in this notebook\n",
        "🔔 **Question**: A quick question to help you understand what's going on.<br>\n",
        "🥊 **Challenge**: Interactive exercise. We'll work through these in the workshop!<br>\n",
        "⚠️ **Warning**: Heads-up about tricky stuff or common mistakes.<br>\n",
        "💡 **Tip**: How to do something a bit more efficiently or effectively.<br>\n",
        "🎬 **Demo**: Showing off something more advanced – so you know what Python can be used for!<br>\n",
        "\n",
        "### Learning Objectives\n",
        "1. [Reflection: To Scape Or Not To Scrape](#when)\n",
        "2. [Extracting and Parsing HTML](#extract)\n",
        "3. [Scraping the Illinois General Assembly](#scrape)"
      ]
    },
    {
      "cell_type": "markdown",
      "metadata": {
        "id": "Pt1hHE_Zaykg"
      },
      "source": [
        "<a id='when'></a>\n",
        "\n",
        "# To Scrape Or Not To Scrape\n",
        "\n",
        "When we'd like to access data from the web, we first have to make sure if the website we are interested in offers a Web API. Platforms like Twitter, Reddit, and the New York Times offer APIs. **Check out D-Lab's [Python Web APIs](https://github.com/dlab-berkeley/Python-Web-APIs) workshop if you want to learn how to use APIs.**\n",
        "\n",
        "However, there are often cases when a Web API does not exist. In these cases, we may have to resort to web scraping, where we extract the underlying HTML from a web page, and directly obtain the information we want. There are several packages in Python we can use to accomplish these tasks. We'll focus two packages: Requests and Beautiful Soup.\n",
        "\n",
        "Our case study will be scraping information on the [state senators of Illinois](http://www.ilga.gov/senate), as well as the [list of bills](http://www.ilga.gov/senate/SenatorBills.asp?MemberID=1911&GA=98&Primary=True) each senator has sponsored. Before we get started, peruse these websites to take a look at their structure."
      ]
    },
    {
      "cell_type": "markdown",
      "metadata": {
        "id": "zr6cnroLaykh"
      },
      "source": [
        "## Installation\n",
        "\n",
        "We will use two main packages: [Requests](http://docs.python-requests.org/en/latest/user/quickstart/) and [Beautiful Soup](http://www.crummy.com/software/BeautifulSoup/bs4/doc/). Go ahead and install these packages, if you haven't already:"
      ]
    },
    {
      "cell_type": "code",
      "execution_count": null,
      "metadata": {
        "colab": {
          "base_uri": "https://localhost:8080/"
        },
        "id": "7YhGYt51ayki",
        "outputId": "343bc18a-4e70-4d57-9f8c-4cdb0696c3e4"
      },
      "outputs": [
        {
          "output_type": "stream",
          "name": "stdout",
          "text": [
            "Requirement already satisfied: requests in /usr/local/lib/python3.11/dist-packages (2.32.3)\n",
            "Requirement already satisfied: charset-normalizer<4,>=2 in /usr/local/lib/python3.11/dist-packages (from requests) (3.4.2)\n",
            "Requirement already satisfied: idna<4,>=2.5 in /usr/local/lib/python3.11/dist-packages (from requests) (3.10)\n",
            "Requirement already satisfied: urllib3<3,>=1.21.1 in /usr/local/lib/python3.11/dist-packages (from requests) (2.5.0)\n",
            "Requirement already satisfied: certifi>=2017.4.17 in /usr/local/lib/python3.11/dist-packages (from requests) (2025.7.14)\n"
          ]
        }
      ],
      "source": [
        "%pip install requests # Instala la librería 'requests', que permite hacer solicitudes HTTP en Python. Se usa comúnmente en notebooks como Jupyter."
      ]
    },
    {
      "cell_type": "code",
      "execution_count": null,
      "metadata": {
        "colab": {
          "base_uri": "https://localhost:8080/"
        },
        "id": "2Lf8sEAVayki",
        "outputId": "b815d60e-97ae-4632-d099-5497140486ac"
      },
      "outputs": [
        {
          "output_type": "stream",
          "name": "stdout",
          "text": [
            "Requirement already satisfied: beautifulsoup4 in /usr/local/lib/python3.11/dist-packages (4.13.4)\n",
            "Requirement already satisfied: soupsieve>1.2 in /usr/local/lib/python3.11/dist-packages (from beautifulsoup4) (2.7)\n",
            "Requirement already satisfied: typing-extensions>=4.0.0 in /usr/local/lib/python3.11/dist-packages (from beautifulsoup4) (4.14.1)\n"
          ]
        }
      ],
      "source": [
        "%pip install beautifulsoup4 #utilizada para analizar y extraer información de contenido HTML o XML (web scraping)."
      ]
    },
    {
      "cell_type": "markdown",
      "metadata": {
        "id": "hW_9U91Raykj"
      },
      "source": [
        "We'll also install the `lxml` package, which helps support some of the parsing that Beautiful Soup performs:"
      ]
    },
    {
      "cell_type": "code",
      "execution_count": null,
      "metadata": {
        "colab": {
          "base_uri": "https://localhost:8080/"
        },
        "id": "3HNe9S_eaykj",
        "outputId": "894bdb2f-4322-4845-87b1-5f33bec8fb78"
      },
      "outputs": [
        {
          "output_type": "stream",
          "name": "stdout",
          "text": [
            "Requirement already satisfied: lxml in /usr/local/lib/python3.11/dist-packages (5.4.0)\n"
          ]
        }
      ],
      "source": [
        "%pip install lxml # Instala la librería 'lxml', un parser muy rápido y eficiente para procesar archivos HTML y XML, usado junto con BeautifulSoup."
      ]
    },
    {
      "cell_type": "code",
      "execution_count": null,
      "metadata": {
        "tags": [],
        "id": "xbx41q7kaykk"
      },
      "outputs": [],
      "source": [
        "# Importa las librerías necesarias\n",
        "from bs4 import BeautifulSoup  # Para analizar y extraer datos de código HTML o XML\n",
        "from datetime import datetime  # Para trabajar con fechas y horas\n",
        "import requests  # Para hacer solicitudes HTTP y obtener contenido de páginas web\n",
        "import time  # Para agregar pausas en la ejecución del programa (por ejemplo, para evitar ser bloqueado por hacer muchas peticiones seguidas)\n"
      ]
    },
    {
      "cell_type": "markdown",
      "metadata": {
        "id": "Uh05WKFCaykk"
      },
      "source": [
        "<a id='extract'></a>\n",
        "\n",
        "# Extracting and Parsing HTML\n",
        "\n",
        "In order to succesfully scrape and analyse HTML, we'll be going through the following 4 steps:\n",
        "1. Make a GET request\n",
        "2. Parse the page with Beautiful Soup\n",
        "3. Search for HTML elements\n",
        "4. Get attributes and text of these elements"
      ]
    },
    {
      "cell_type": "markdown",
      "metadata": {
        "id": "Q0R-SJbZaykk"
      },
      "source": [
        "## Step 1: Make a GET Request to Obtain a Page's HTML\n",
        "\n",
        "We can use the Requests library to:\n",
        "\n",
        "1. Make a GET request to the page, and\n",
        "2. Read in the webpage's HTML code.\n",
        "\n",
        "The process of making a request and obtaining a result resembles that of the Web API workflow. Now, however, we're making a request directly to the website, and we're going to have to parse the HTML ourselves. This is in contrast to being provided data organized into a more straightforward `JSON` or `XML` output."
      ]
    },
    {
      "cell_type": "code",
      "execution_count": null,
      "metadata": {
        "tags": [],
        "colab": {
          "base_uri": "https://localhost:8080/"
        },
        "id": "riweKZSPaykl",
        "outputId": "40101749-afe3-4638-c46f-90714f5b3425"
      },
      "outputs": [
        {
          "output_type": "stream",
          "name": "stdout",
          "text": [
            "<!DOCTYPE html>\r\n",
            "<html lang=\"en\">\r\n",
            "<head id=\"Head1\">\r\n",
            "    <meta name=\"viewport\" content=\"width=device-width, initial-scale=1.0\" />\r\n",
            "    <meta http-equiv=\"content-type\" content=\"text/html;charset=utf-8\" />\r\n",
            "    <meta http-equiv=\"X-UA-Compatible\" content=\"IE=Edge\" />\r\n",
            "    <meta charset=\"utf-8\" />\r\n",
            "    <meta charset=\"UTF-8\">\r\n",
            "    <!-- Meta Description -->\r\n",
            "    <meta name=\"description\" content=\"Welcome to the official government website of the Illinois General Assembly\">\r\n",
            "    <meta name=\"contactName\" content=\"Legislative Information System\">\r\n",
            "    <meta name=\"contactOrganization\" content=\"LIS Staff Services\">\r\n",
            "    <meta name=\"contactStreetAddress1\" content=\"705 Stratton Office Building\">\r\n",
            "    <meta name=\"contactCity\" content=\"Springfield\">\r\n",
            "    <meta name=\"contactZipcode\" content=\"62706\">\r\n",
            "    <meta name=\"contactNetworkAddress\" content=\"webmaster@ilga.gov\">\r\n",
            "    <meta name=\"contactPhoneNumber\" content=\"217-782-3944\">\r\n",
            "    <meta name=\"contactFaxNumber\" content=\"217-524-6059\">\r\n",
            "    <meta name\n"
          ]
        }
      ],
      "source": [
        "# Realiza una solicitud GET a la página de los miembros del Senado del sitio web de Illinois\n",
        "req = requests.get('http://www.ilga.gov/Senate/Members')\n",
        "\n",
        "# Guarda el contenido HTML de la respuesta del servidor en la variable 'src'\n",
        "src = req.text\n",
        "\n",
        "# Imprime los primeros 1000 caracteres del HTML obtenido para revisar parte del contenido de la página\n",
        "print(src[:1000])"
      ]
    },
    {
      "cell_type": "markdown",
      "source": [
        "En esta celda se hace una solicitud HTTP (GET) a la página del Senado del estado de Illinois usando la librería requests.\n",
        "Luego se guarda el contenido HTML de la página en la variable src.\n",
        "Finalmente, se imprimen los primeros 1000 caracteres del HTML para ver cómo está estructurado el código de esa página web."
      ],
      "metadata": {
        "id": "f6ZNhj87dDQU"
      }
    },
    {
      "cell_type": "markdown",
      "source": [
        "¿Por qué hacemos esto?\n",
        "Para hacer scraping, necesitamos primero ver cómo está estructurado el HTML, ya que es ahí donde está la información que queremos extraer. En este caso, la página del Senado tiene los nombres y enlaces a los senadores, y lo vamos a capturar desde el HTML directamente."
      ],
      "metadata": {
        "id": "sH8X-oGpdF5y"
      }
    },
    {
      "cell_type": "markdown",
      "metadata": {
        "id": "I246VDrtaykl"
      },
      "source": [
        "## Step 2: Parse the Page with Beautiful Soup\n",
        "\n",
        "Now, we use the `BeautifulSoup` function to parse the reponse into an HTML tree. This returns an object (called a **soup object**) which contains all of the HTML in the original document.\n",
        "\n",
        "If you run into an error about a parser library, make sure you've installed the `lxml` package to provide Beautiful Soup with the necessary parsing tools."
      ]
    },
    {
      "cell_type": "code",
      "execution_count": null,
      "metadata": {
        "colab": {
          "base_uri": "https://localhost:8080/"
        },
        "id": "r_2Y3Gg8aykl",
        "outputId": "42f6fe71-3d40-41fd-8017-b671829677e8"
      },
      "outputs": [
        {
          "output_type": "stream",
          "name": "stdout",
          "text": [
            "<!DOCTYPE html>\n",
            "<html lang=\"en\">\n",
            " <head id=\"Head1\">\n",
            "  <meta content=\"width=device-width, initial-scale=1.0\" name=\"viewport\"/>\n",
            "  <meta content=\"text/html;charset=utf-8\" http-equiv=\"content-type\"/>\n",
            "  <meta content=\"IE=Edge\" http-equiv=\"X-UA-Compatible\"/>\n",
            "  <meta charset=\"utf-8\"/>\n",
            "  <meta charset=\"utf-8\"/>\n",
            "  <!-- Meta Description -->\n",
            "  <meta content=\"Welcome to the official government website of the Illinois General Assembly\" name=\"description\"/>\n",
            "  <meta content=\"Legislative Information System\" name=\"contactName\"/>\n",
            "  <meta content=\"LIS Staff Services\" name=\"contactOrganization\"/>\n",
            "  <meta content=\"705 Stratton Office Building\" name=\"contactStreetAddress1\"/>\n",
            "  <meta content=\"Springfield\" name=\"contactCity\"/>\n",
            "  <meta content=\"62706\" name=\"contactZipcode\"/>\n",
            "  <meta content=\"webmaster@ilga.gov\" name=\"contactNetworkAddress\"/>\n",
            "  <meta content=\"217-782-3944\" name=\"contactPhoneNumber\"/>\n",
            "  <meta content=\"217-524-6059\" name=\"contactFaxNumber\"/>\n",
            "  <meta content=\"State Of Illinois\" name=\"originatorJur\n"
          ]
        }
      ],
      "source": [
        "# Analiza el contenido HTML usando BeautifulSoup con el parser 'lxml' para estructurarlo como un árbol\n",
        "soup = BeautifulSoup(src, 'lxml')\n",
        "\n",
        "# Muestra los primeros 1000 caracteres del HTML ya formateado y estructurado para facilitar su lectura\n",
        "print(soup.prettify()[:1000])\n"
      ]
    },
    {
      "cell_type": "markdown",
      "source": [
        "Se convierte el contenido HTML (src) en un objeto BeautifulSoup.\n",
        "Esto permite navegar y buscar información dentro del HTML como si fuera un árbol estructurado.\n",
        "Se usa 'lxml' como el parser porque es rápido y eficiente.\n",
        "La función prettify() muestra el HTML con sangrías, facilitando su lectura.\n",
        "Aquí solo se imprimen los primeros 1000 caracteres para no saturar la salida"
      ],
      "metadata": {
        "id": "pD1zHBLfe78T"
      }
    },
    {
      "cell_type": "markdown",
      "metadata": {
        "id": "allgNE4Haykl"
      },
      "source": [
        "The output looks pretty similar to the above, but now it's organized in a `soup` object which allows us to more easily traverse the page."
      ]
    },
    {
      "cell_type": "markdown",
      "metadata": {
        "id": "T5iVlTqGaykm"
      },
      "source": [
        "## Step 3: Search for HTML Elements\n",
        "\n",
        "Beautiful Soup has a number of functions to find useful components on a page. Beautiful Soup lets you find elements by their:\n",
        "\n",
        "1. HTML tags\n",
        "2. HTML Attributes\n",
        "3. CSS Selectors\n",
        "\n",
        "Let's search first for **HTML tags**.\n",
        "\n",
        "The function `find_all` searches the `soup` tree to find all the elements with an a particular HTML tag, and returns all of those elements.\n",
        "\n",
        "What does the example below do?"
      ]
    },
    {
      "cell_type": "code",
      "execution_count": null,
      "metadata": {
        "colab": {
          "base_uri": "https://localhost:8080/"
        },
        "id": "DtWgLa0raykm",
        "outputId": "dadcc916-41d7-4e9f-8bb8-deade2492fc6"
      },
      "outputs": [
        {
          "output_type": "stream",
          "name": "stdout",
          "text": [
            "[<a b-0yw6sxot5c=\"\" class=\"dropdown-item\" data-lang=\"en\" href=\"#\">\n",
            "<span b-0yw6sxot5c=\"\" class=\"flag-icon flag-icon-us\"></span> English\r\n",
            "                            </a>, <a b-0yw6sxot5c=\"\" class=\"dropdown-item\" data-lang=\"af\" href=\"#\">\n",
            "<span b-0yw6sxot5c=\"\" class=\"flag-icon flag-icon-za\"></span> Afrikaans\r\n",
            "                            </a>, <a b-0yw6sxot5c=\"\" class=\"dropdown-item\" data-lang=\"sq\" href=\"#\">\n",
            "<span b-0yw6sxot5c=\"\" class=\"flag-icon flag-icon-al\"></span> Albanian\r\n",
            "                            </a>, <a b-0yw6sxot5c=\"\" class=\"dropdown-item\" data-lang=\"ar\" href=\"#\">\n",
            "<span b-0yw6sxot5c=\"\" class=\"flag-icon flag-icon-ae\"></span> Arabic\r\n",
            "                            </a>, <a b-0yw6sxot5c=\"\" class=\"dropdown-item\" data-lang=\"hy\" href=\"#\">\n",
            "<span b-0yw6sxot5c=\"\" class=\"flag-icon flag-icon-am\"></span> Armenian\r\n",
            "                            </a>, <a b-0yw6sxot5c=\"\" class=\"dropdown-item\" data-lang=\"az\" href=\"#\">\n",
            "<span b-0yw6sxot5c=\"\" class=\"flag-icon flag-icon-az\"></span> Azerbaijani\r\n",
            "                            </a>, <a b-0yw6sxot5c=\"\" class=\"dropdown-item\" data-lang=\"eu\" href=\"#\">\n",
            "<span b-0yw6sxot5c=\"\" class=\"flag-icon flag-icon-eu\"></span> Basque\r\n",
            "                            </a>, <a b-0yw6sxot5c=\"\" class=\"dropdown-item\" data-lang=\"bn\" href=\"#\">\n",
            "<span b-0yw6sxot5c=\"\" class=\"flag-icon flag-icon-bd\"></span> Bengali\r\n",
            "                            </a>, <a b-0yw6sxot5c=\"\" class=\"dropdown-item\" data-lang=\"bs\" href=\"#\">\n",
            "<span b-0yw6sxot5c=\"\" class=\"flag-icon flag-icon-ba\"></span> Bosnian\r\n",
            "                            </a>, <a b-0yw6sxot5c=\"\" class=\"dropdown-item\" data-lang=\"ca\" href=\"#\">\n",
            "<span b-0yw6sxot5c=\"\" class=\"flag-icon flag-icon-es\"></span> Catalan\r\n",
            "                            </a>]\n"
          ]
        }
      ],
      "source": [
        "# Busca todos los elementos de la página que tengan la etiqueta <a> (enlaces)\n",
        "a_tags = soup.find_all(\"a\")\n",
        "\n",
        "# Imprime los primeros 10 enlaces encontrados en la página\n",
        "print(a_tags[:10])"
      ]
    },
    {
      "cell_type": "markdown",
      "source": [
        "Se buscan todas las etiquetas <a> en la página (que normalmente representan enlaces).\n",
        "find_all(\"a\") devuelve una lista con todos los elementos <a>.\n",
        "Se imprimen los primeros 10 resultados para ver cómo lucen.\n",
        "Esto es útil para ver a qué páginas están enlazando (como los senadores en este caso)."
      ],
      "metadata": {
        "id": "MwTwfyTbfD7Z"
      }
    },
    {
      "cell_type": "markdown",
      "metadata": {
        "id": "x8wSEkyaaykm"
      },
      "source": [
        "Because `find_all()` is the most popular method in the Beautiful Soup search API, you can use a shortcut for it. If you treat the BeautifulSoup object as though it were a function, then it’s the same as calling `find_all()` on that object.\n",
        "\n",
        "These two lines of code are equivalent:"
      ]
    },
    {
      "cell_type": "code",
      "execution_count": null,
      "metadata": {
        "tags": [],
        "colab": {
          "base_uri": "https://localhost:8080/"
        },
        "id": "QwUeNdBLaykm",
        "outputId": "b70169ba-e093-4e00-b917-d8d941f8f844"
      },
      "outputs": [
        {
          "output_type": "stream",
          "name": "stdout",
          "text": [
            "<a b-0yw6sxot5c=\"\" class=\"dropdown-item\" data-lang=\"en\" href=\"#\">\n",
            "<span b-0yw6sxot5c=\"\" class=\"flag-icon flag-icon-us\"></span> English\r\n",
            "                            </a>\n",
            "<a b-0yw6sxot5c=\"\" class=\"dropdown-item\" data-lang=\"en\" href=\"#\">\n",
            "<span b-0yw6sxot5c=\"\" class=\"flag-icon flag-icon-us\"></span> English\r\n",
            "                            </a>\n"
          ]
        }
      ],
      "source": [
        "# Busca todos los elementos <a> usando el método find_all()\n",
        "a_tags = soup.find_all(\"a\")\n",
        "\n",
        "# Alternativamente, busca los elementos <a> usando la notación abreviada (equivalente a find_all(\"a\"))\n",
        "a_tags_alt = soup(\"a\")\n",
        "\n",
        "# Imprime el primer enlace encontrado con cada método para comparar que ambos devuelven lo mismo\n",
        "print(a_tags[0])\n",
        "print(a_tags_alt[0])\n"
      ]
    },
    {
      "cell_type": "markdown",
      "source": [
        "Estas dos formas (soup.find_all(\"a\") y soup(\"a\")) hacen exactamente lo mismo.\n",
        "Ambas devuelven una lista con todos los elementos <a> del HTML.\n",
        "Se imprimen los primeros elementos de ambas listas para mostrar que son iguales."
      ],
      "metadata": {
        "id": "Yi4Q-j5Mfa5J"
      }
    },
    {
      "cell_type": "markdown",
      "metadata": {
        "id": "Zp9MWMlxaykm"
      },
      "source": [
        "How many links did we obtain?"
      ]
    },
    {
      "cell_type": "code",
      "execution_count": null,
      "metadata": {
        "colab": {
          "base_uri": "https://localhost:8080/"
        },
        "id": "YBHor_EUaykm",
        "outputId": "d5d15a63-556c-4cd4-95ca-d2f55230249a"
      },
      "outputs": [
        {
          "output_type": "stream",
          "name": "stdout",
          "text": [
            "270\n"
          ]
        }
      ],
      "source": [
        "print(len(a_tags)) # Imprime la cantidad total de etiquetas <a> (enlaces) encontradas en la página"
      ]
    },
    {
      "cell_type": "markdown",
      "source": [
        "Se imprime la cantidad total de etiquetas <a> encontradas en la página.\n",
        "Generalmente habrá muchos enlaces, y no todos serán útiles para tu objetivo."
      ],
      "metadata": {
        "id": "hCmYlcF0fgqa"
      }
    },
    {
      "cell_type": "markdown",
      "metadata": {
        "id": "1Ct9A120aykm"
      },
      "source": [
        "That's a lot! Many elements on a page will have the same HTML tag. For instance, if you search for everything with the `a` tag, you're likely to get more hits, many of which you might not want. Remember, the `a` tag defines a hyperlink, so you'll usually find many on any given page.\n",
        "\n",
        "What if we wanted to search for HTML tags with certain attributes, such as particular CSS classes?\n",
        "\n",
        "We can do this by adding an additional argument to the `find_all`. In the example below, we are finding all the `a` tags, and then filtering those with `class_=\"sidemenu\"`."
      ]
    },
    {
      "cell_type": "code",
      "execution_count": null,
      "metadata": {
        "tags": [],
        "colab": {
          "base_uri": "https://localhost:8080/"
        },
        "id": "IvRmiG0yaykm",
        "outputId": "a0491a17-f12c-4995-81eb-32720ee5fcfd"
      },
      "outputs": [
        {
          "output_type": "execute_result",
          "data": {
            "text/plain": [
              "[<a class=\"notranslate\" href=\"/Senate/Members/Details/3312\">Neil Anderson</a>,\n",
              " <a class=\"notranslate\" href=\"/Senate/Members/Details/3312\">Neil Anderson</a>]"
            ]
          },
          "metadata": {},
          "execution_count": 261
        }
      ],
      "source": [
        "# Obtiene solo las etiquetas <a> que tienen la clase \"notranslate\"\n",
        "side_menus = soup(\"a\", class_=\"notranslate\")\n",
        "\n",
        "# Muestra las primeras 2 etiquetas <a> con esa clase para ver ejemplos\n",
        "side_menus[:2]\n"
      ]
    },
    {
      "cell_type": "markdown",
      "source": [
        "Se filtran los enlaces <a> que tienen el atributo class=\"sidemenu\".\n",
        "Esto es útil para obtener solo los enlaces que forman parte del menú lateral de navegación"
      ],
      "metadata": {
        "id": "Y_iwg8Ygfvwz"
      }
    },
    {
      "cell_type": "markdown",
      "metadata": {
        "id": "zUgT5t3Laykm"
      },
      "source": [
        "A more efficient way to search for elements on a website is via a **CSS selector**. For this we have to use a different method called `select()`. Just pass a string into the `.select()` to get all elements with that string as a valid CSS selector.\n",
        "\n",
        "In the example above, we can use `\"a.sidemenu\"` as a CSS selector, which returns all `a` tags with class `sidemenu`."
      ]
    },
    {
      "cell_type": "code",
      "execution_count": null,
      "metadata": {
        "tags": [],
        "colab": {
          "base_uri": "https://localhost:8080/"
        },
        "id": "PF7JSZjMaykm",
        "outputId": "c51eb033-f3ba-4969-e820-80e962a3f9e2"
      },
      "outputs": [
        {
          "output_type": "execute_result",
          "data": {
            "text/plain": [
              "[<div class=\"member-overlay\">\n",
              " <h5 class=\"card-title\"><a class=\"notranslate\" href=\"/Senate/Members/Details/3312\">Neil Anderson</a> (R)</h5>\n",
              " <p class=\"card-text\">\n",
              "                                             Republican Caucus Chair\n",
              "                                             <br/>47th District\n",
              "                                         </p>\n",
              " </div>,\n",
              " <div class=\"member-overlay\">\n",
              " <h5 class=\"card-title\"><a class=\"notranslate\" href=\"/Senate/Members/Details/3312\">Neil Anderson</a> (R)</h5>\n",
              " <p class=\"card-text\">\n",
              "                                             Republican Caucus Chair\n",
              "                                             <br/>47th District\n",
              "                                         </p>\n",
              " </div>,\n",
              " <div class=\"member-overlay\">\n",
              " <h5 class=\"card-title\"><a class=\"notranslate\" href=\"/Senate/Members/Details/3316\">Omar Aquino</a> (D)</h5>\n",
              " <p class=\"card-text\">\n",
              "                                             Majority Caucus Chair\n",
              "                                             <br/>2nd District\n",
              "                                         </p>\n",
              " </div>,\n",
              " <div class=\"member-overlay\">\n",
              " <h5 class=\"card-title\"><a class=\"notranslate\" href=\"/Senate/Members/Details/3316\">Omar Aquino</a> (D)</h5>\n",
              " <p class=\"card-text\">\n",
              "                                             Majority Caucus Chair\n",
              "                                             <br/>2nd District\n",
              "                                         </p>\n",
              " </div>,\n",
              " <div class=\"member-overlay\">\n",
              " <h5 class=\"card-title\"><a class=\"notranslate\" href=\"/Senate/Members/Details/3383\">Li Arellano, Jr.</a> (R)</h5>\n",
              " <p class=\"card-text\">\n",
              "                                             Senator\n",
              "                                             <br/>37th District\n",
              "                                         </p>\n",
              " </div>]"
            ]
          },
          "metadata": {},
          "execution_count": 262
        }
      ],
      "source": [
        "# Selecciona los primeros 5 elementos que tienen la clase \"member-overlay\" dentro de un <div> usando un selector CSS\n",
        "selected = soup.select(\"div.member-overlay\")\n",
        "\n",
        "# Muestra los primeros 5 elementos encontrados con esa clase\n",
        "selected[:5]\n"
      ]
    },
    {
      "cell_type": "markdown",
      "source": [
        "Otra forma más eficiente de buscar elementos es con selectores CSS.\n",
        "\"a.sidemenu\" selecciona todas las etiquetas <a> que tienen la clase sidemenu.\n",
        "Se imprimen los primeros 5 elementos encontrados.\n",
        "Este método es muy flexible y permite búsquedas complejas como \"div > ul > li > a\"."
      ],
      "metadata": {
        "id": "Td4kTZ0Gf5Ci"
      }
    },
    {
      "cell_type": "markdown",
      "metadata": {
        "id": "xUK-02Rlaykn"
      },
      "source": [
        "## 🥊 Challenge: Find All\n",
        "\n",
        "Use BeautifulSoup to find all the `a` elements with class `mainmenu`."
      ]
    },
    {
      "cell_type": "code",
      "execution_count": null,
      "metadata": {
        "id": "XHcp0KYqaykn",
        "colab": {
          "base_uri": "https://localhost:8080/"
        },
        "outputId": "dcc41dab-5722-4659-8f4d-ecb657d30afc"
      },
      "outputs": [
        {
          "output_type": "execute_result",
          "data": {
            "text/plain": [
              "[<a aria-expanded=\"false\" aria-haspopup=\"true\" b-0yw6sxot5c=\"\" data-toggle=\"dropdown\" href=\"/Legislation\" role=\"button\">\n",
              " <span b-0yw6sxot5c=\"\">LEGISLATION &amp; LAWS</span> <i b-0yw6sxot5c=\"\" class=\"fa fa-chevron-down\"></i>\n",
              " </a>,\n",
              " <a b-0yw6sxot5c=\"\" href=\"/Legislation\">Bills &amp; Resolutions</a>]"
            ]
          },
          "metadata": {},
          "execution_count": 263
        }
      ],
      "source": [
        "# Busca todas las etiquetas <a> cuyo atributo href sea exactamente \"/Legislation\"\n",
        "side_menus = soup.find_all(\"a\", href=\"/Legislation\")\n",
        "\n",
        "# Muestra las primeras 10 coincidencias encontradas\n",
        "side_menus[:10]\n",
        "\n"
      ]
    },
    {
      "cell_type": "markdown",
      "metadata": {
        "id": "RTVTSkeCaykn"
      },
      "source": [
        "## Step 4: Get Attributes and Text of Elements\n",
        "\n",
        "Once we identify elements, we want the access information in that element. Usually, this means two things:\n",
        "\n",
        "1. Text\n",
        "2. Attributes\n",
        "\n",
        "Getting the text inside an element is easy. All we have to do is use the `text` member of a `tag` object:"
      ]
    },
    {
      "cell_type": "code",
      "execution_count": null,
      "metadata": {
        "tags": [],
        "colab": {
          "base_uri": "https://localhost:8080/"
        },
        "id": "EIT-mQCjaykn",
        "outputId": "b01755a6-c008-48c1-aa9e-973240e3fa19"
      },
      "outputs": [
        {
          "output_type": "stream",
          "name": "stdout",
          "text": [
            "<a class=\"notranslate\" href=\"/Senate/Members/Details/3312\">Neil Anderson</a>\n",
            "Class:  <class 'bs4.element.Tag'>\n"
          ]
        }
      ],
      "source": [
        "# Obtiene todos los enlaces (<a>) que tienen la clase \"notranslate\" y los guarda en una lista\n",
        "side_menu_links = soup.select(\"a.notranslate\")\n",
        "\n",
        "# Muestra el primer enlace de esa lista\n",
        "first_link = side_menu_links[0]\n",
        "print(first_link)\n",
        "\n",
        "# Imprime el tipo de dato de la variable first_link, que será un objeto BeautifulSoup Tag\n",
        "print('Class: ', type(first_link))\n"
      ]
    },
    {
      "cell_type": "markdown",
      "metadata": {
        "id": "KwiVkaWSaykn"
      },
      "source": [
        "It's a Beautiful Soup tag! This means it has a `text` member:"
      ]
    },
    {
      "cell_type": "code",
      "execution_count": null,
      "metadata": {
        "tags": [],
        "colab": {
          "base_uri": "https://localhost:8080/"
        },
        "id": "ss0PDls9aykn",
        "outputId": "fa39c08f-c2d9-4ace-e83e-7390b25297e2"
      },
      "outputs": [
        {
          "output_type": "stream",
          "name": "stdout",
          "text": [
            "Neil Anderson\n"
          ]
        }
      ],
      "source": [
        "# Imprime el texto visible dentro del primer enlace, es decir, lo que un usuario ve y puede hacer clic\n",
        "print(first_link.text)\n"
      ]
    },
    {
      "cell_type": "markdown",
      "source": [
        "Esto es interesante por que ignora las etiquetas html y me devuelve solo el texto."
      ],
      "metadata": {
        "id": "lMREBHMklsEK"
      }
    },
    {
      "cell_type": "markdown",
      "metadata": {
        "id": "J9PqtAjuaykn"
      },
      "source": [
        "Sometimes we want the value of certain attributes. This is particularly relevant for `a` tags, or links, where the `href` attribute tells us where the link goes.\n",
        "\n",
        "💡 **Tip**: You can access a tag’s attributes by treating the tag like a dictionary:"
      ]
    },
    {
      "cell_type": "code",
      "execution_count": null,
      "metadata": {
        "tags": [],
        "colab": {
          "base_uri": "https://localhost:8080/"
        },
        "id": "GTbS6q7saykn",
        "outputId": "ac650628-bab8-4118-93d5-a6f91e77d625"
      },
      "outputs": [
        {
          "output_type": "stream",
          "name": "stdout",
          "text": [
            "/Senate/Members/Details/3312\n"
          ]
        }
      ],
      "source": [
        "# Imprime el valor del atributo 'href' del primer enlace, es decir, la URL o ruta a la que apunta ese link\n",
        "print(first_link['href'])\n"
      ]
    },
    {
      "cell_type": "markdown",
      "metadata": {
        "id": "tjtdwO_qaykn"
      },
      "source": [
        "## 🥊 Challenge: Extract specific attributes\n",
        "\n",
        "Extract all `href` attributes for each `mainmenu` URL."
      ]
    },
    {
      "cell_type": "code",
      "source": [
        "print(soup.prettify()[:500])  # Solo los primeros 500 caracteres para no saturar\n"
      ],
      "metadata": {
        "id": "AkcqqgdJniN8",
        "outputId": "eda2d533-c6e8-4836-8164-68a0d04be04d",
        "colab": {
          "base_uri": "https://localhost:8080/"
        }
      },
      "execution_count": null,
      "outputs": [
        {
          "output_type": "stream",
          "name": "stdout",
          "text": [
            "<!DOCTYPE html>\n",
            "<html lang=\"en\">\n",
            " <head id=\"Head1\">\n",
            "  <meta content=\"width=device-width, initial-scale=1.0\" name=\"viewport\"/>\n",
            "  <meta content=\"text/html;charset=utf-8\" http-equiv=\"content-type\"/>\n",
            "  <meta content=\"IE=Edge\" http-equiv=\"X-UA-Compatible\"/>\n",
            "  <meta charset=\"utf-8\"/>\n",
            "  <meta charset=\"utf-8\"/>\n",
            "  <!-- Meta Description -->\n",
            "  <meta content=\"Welcome to the official government website of the Illinois General Assembly\" name=\"description\"/>\n",
            "  <meta content=\"Legislative Information System\" nam\n"
          ]
        }
      ]
    },
    {
      "cell_type": "code",
      "execution_count": null,
      "metadata": {
        "colab": {
          "base_uri": "https://localhost:8080/"
        },
        "id": "VvTmur5Gaykn",
        "outputId": "2904b0f5-ac08-4d3f-b06f-e319a842eae0"
      },
      "outputs": [
        {
          "output_type": "stream",
          "name": "stdout",
          "text": [
            "['/Senate/Members/Details/3312', '/Senate/Members/Details/3312', '/Senate/Members/Details/3316', '/Senate/Members/Details/3316', '/Senate/Members/Details/3383', '/Senate/Members/Details/3383', '/Senate/Members/Details/3413', '/Senate/Members/Details/3413', '/Senate/Members/Details/3337', '/Senate/Members/Details/3337', '/Senate/Members/Details/3386', '/Senate/Members/Details/3386', '/Senate/Members/Details/3317', '/Senate/Members/Details/3317', '/Senate/Members/Details/3403', '/Senate/Members/Details/3403', '/Senate/Members/Details/3410', '/Senate/Members/Details/3410', '/Senate/Members/Details/3443', '/Senate/Members/Details/3443', '/Senate/Members/Details/3291', '/Senate/Members/Details/3291', '/Senate/Members/Details/3329', '/Senate/Members/Details/3329', '/Senate/Members/Details/3334', '/Senate/Members/Details/3334', '/Senate/Members/Details/3407', '/Senate/Members/Details/3407', '/Senate/Members/Details/3339', '/Senate/Members/Details/3339', '/Senate/Members/Details/3412', '/Senate/Members/Details/3412', '/Senate/Members/Details/3376', '/Senate/Members/Details/3376', '/Senate/Members/Details/3338', '/Senate/Members/Details/3338', '/Senate/Members/Details/3318', '/Senate/Members/Details/3318', '/Senate/Members/Details/3341', '/Senate/Members/Details/3341', '/Senate/Members/Details/3442', '/Senate/Members/Details/3442', '/Senate/Members/Details/3408', '/Senate/Members/Details/3408', '/Senate/Members/Details/3268', '/Senate/Members/Details/3268', '/Senate/Members/Details/3292', '/Senate/Members/Details/3292', '/Senate/Members/Details/3411', '/Senate/Members/Details/3411', '/Senate/Members/Details/3293', '/Senate/Members/Details/3293', '/Senate/Members/Details/3460', '/Senate/Members/Details/3460', '/Senate/Members/Details/3270', '/Senate/Members/Details/3270', '/Senate/Members/Details/3269', '/Senate/Members/Details/3269', '/Senate/Members/Details/3378', '/Senate/Members/Details/3378', '/Senate/Members/Details/3276', '/Senate/Members/Details/3276', '/Senate/Members/Details/3372', '/Senate/Members/Details/3372', '/Senate/Members/Details/3271', '/Senate/Members/Details/3271', '/Senate/Members/Details/3406', '/Senate/Members/Details/3406', '/Senate/Members/Details/3264', '/Senate/Members/Details/3264', '/Senate/Members/Details/3380', '/Senate/Members/Details/3380', '/Senate/Members/Details/3369', '/Senate/Members/Details/3369', '/Senate/Members/Details/3342', '/Senate/Members/Details/3342', '/Senate/Members/Details/3294', '/Senate/Members/Details/3294', '/Senate/Members/Details/3313', '/Senate/Members/Details/3313', '/Senate/Members/Details/3343', '/Senate/Members/Details/3343', '/Senate/Members/Details/3344', '/Senate/Members/Details/3344', '/Senate/Members/Details/3404', '/Senate/Members/Details/3404', '/Senate/Members/Details/3405', '/Senate/Members/Details/3405', '/Senate/Members/Details/3281', '/Senate/Members/Details/3281', '/Senate/Members/Details/3295', '/Senate/Members/Details/3295', '/Senate/Members/Details/3398', '/Senate/Members/Details/3398', '/Senate/Members/Details/3331', '/Senate/Members/Details/3331', '/Senate/Members/Details/3296', '/Senate/Members/Details/3296', '/Senate/Members/Details/3265', '/Senate/Members/Details/3265', '/Senate/Members/Details/3319', '/Senate/Members/Details/3319', '/Senate/Members/Details/3399', '/Senate/Members/Details/3399', '/Senate/Members/Details/3397', '/Senate/Members/Details/3397', '/Senate/Members/Details/3409', '/Senate/Members/Details/3409', '/Senate/Members/Details/3385', '/Senate/Members/Details/3385', '/Senate/Members/Details/3375', '/Senate/Members/Details/3375', '/Senate/Members/Details/3345', '/Senate/Members/Details/3345', '/Senate/Members/Details/3449', '/Senate/Members/Details/3449', '/Senate/Members/Details/3336', '/Senate/Members/Details/3336', '/Senate/Members/Details/3315', '/Senate/Members/Details/3315']\n"
          ]
        }
      ],
      "source": [
        "# YOUR CODE HERE\n",
        "# Buscar todos los enlaces con clase 'dropdown-item'\n",
        "no_translate = soup.find_all('a', class_='notranslate')\n",
        "\n",
        "# Extraer sus atributos href\n",
        "dropdown_hrefs = [link['href'] for link in no_translate]\n",
        "\n",
        "# Mostrar resultados\n",
        "print(dropdown_hrefs)\n"
      ]
    },
    {
      "cell_type": "markdown",
      "metadata": {
        "id": "wO6FgGQsaykn"
      },
      "source": [
        "<a id='scrape'></a>\n",
        "\n",
        "# Scraping the Illinois General Assembly\n",
        "\n",
        "Believe it or not, those are really the fundamental tools you need to scrape a website. Once you spend more time familiarizing yourself with HTML and CSS, then it's simply a matter of understanding the structure of a particular website and intelligently applying the tools of Beautiful Soup and Python.\n",
        "\n",
        "Let's apply these skills to scrape the [Illinois 98th General Assembly](http://www.ilga.gov/senate/default.asp?GA=98).\n",
        "\n",
        "Specifically, our goal is to scrape information on each senator, including their name, district, and party."
      ]
    },
    {
      "cell_type": "markdown",
      "metadata": {
        "id": "-g-GlJx1aykn"
      },
      "source": [
        "## Scrape and Soup the Webpage\n",
        "\n",
        "Let's scrape and parse the webpage, using the tools we learned in the previous section."
      ]
    },
    {
      "cell_type": "code",
      "execution_count": null,
      "metadata": {
        "tags": [],
        "id": "vrsL8XP4aykn"
      },
      "outputs": [],
      "source": [
        "# Realiza una solicitud GET a la URL específica que muestra el estado de una ley (proyecto de ley) en el sitio web de Illinois\n",
        "req = requests.get('https://ilga.gov/Legislation/BillStatus?DocNum=818&DocTypeID=HR&GA=101&GAID=9&LegID=34456&SessionID=51')\n",
        "\n",
        "# Guarda el contenido HTML recibido en la variable 'src'\n",
        "src = req.text\n",
        "\n",
        "# Analiza el contenido HTML usando BeautifulSoup con el parser 'lxml' para estructurarlo y facilitar la extracción de datos\n",
        "soup = BeautifulSoup(src, \"lxml\")\n"
      ]
    },
    {
      "cell_type": "markdown",
      "metadata": {
        "id": "T_dXALAcaykn"
      },
      "source": [
        "## Search for the Table Elements\n",
        "\n",
        "Our goal is to obtain the elements in the table on the webpage. Remember: rows are identified by the `tr` tag. Let's use `find_all` to obtain these elements."
      ]
    },
    {
      "cell_type": "markdown",
      "source": [],
      "metadata": {
        "id": "uKcc4dSLXVjU"
      }
    },
    {
      "cell_type": "markdown",
      "source": [
        "**WEB DINAMICA**\n",
        "\n",
        "Al realizar un scraping de la página https://ilga.gov/Legislation/BillStatus?... utilizando requests y BeautifulSoup, me encontré con un problema: la búsqueda de elementos <tr> (filas de tabla) devolvía una lista vacía. Esto se debe a que la página carga su contenido de forma dinámica utilizando JavaScript.\n",
        "\n",
        "Cuando utilizamos requests.get(...), lo que se descarga es únicamente el HTML estático que el servidor entrega inicialmente. Sin embargo, en este caso, la tabla que contiene los datos no se encuentra en ese HTML original, sino que es generada posteriormente por JavaScript una vez que la página ha sido completamente cargada en el navegador. Como requests no tiene la capacidad de ejecutar código JavaScript, dicha tabla simplemente no aparece en el contenido descargado.\n",
        "\n",
        "Por esta razón, decidí utilizar Selenium, una herramienta que permite simular el comportamiento de un navegador real (como Chrome o Firefox). Selenium sí ejecuta JavaScript, lo que permite acceder al contenido completo de la página, incluyendo los datos generados dinámicamente. Gracias a esto, fue posible capturar el HTML final ya renderizado y, a partir de él, utilizar BeautifulSoup para encontrar correctamente todas las filas <tr> que componen la tabla deseada."
      ],
      "metadata": {
        "id": "tQ-4ervtYMFP"
      }
    },
    {
      "cell_type": "code",
      "execution_count": null,
      "metadata": {
        "id": "ZYJAd0lTayko",
        "colab": {
          "base_uri": "https://localhost:8080/"
        },
        "outputId": "6a838ff9-d9cc-4208-bd75-c0d63c906619"
      },
      "outputs": [
        {
          "output_type": "stream",
          "name": "stdout",
          "text": [
            "¿Hay '<tr>' en el HTML descargado? False\n",
            "Primeros 500 caracteres:\n",
            " <!DOCTYPE html>\r\n",
            "<html lang=\"en\">\r\n",
            "<head id=\"Head1\">\r\n",
            "    <meta name=\"viewport\" content=\"width=device-width, initial-scale=1.0\" />\r\n",
            "    <meta http-equiv=\"content-type\" content=\"text/html;charset=utf-8\" />\r\n",
            "    <meta http-equiv=\"X-UA-Compatible\" content=\"IE=Edge\" />\r\n",
            "    <meta charset=\"utf-8\" />\r\n",
            "    <meta charset=\"UTF-8\">\r\n",
            "    <!-- Meta Description -->\r\n",
            "    <meta name=\"description\" content=\"Welcome to the official government website of the Illinois General Assembly\">\r\n",
            "    <meta name=\"contactName\n"
          ]
        }
      ],
      "source": [
        "# Obtiene todas las filas de tabla (<tr>) del contenido HTML analizado\n",
        "rows = soup.find_all(\"tr\")\n",
        "\n",
        "# Muestra cuántas filas de tabla se encontraron\n",
        "len(rows)\n",
        "\n",
        "# Verifica si la cadena \"<tr\" está presente en el HTML original descargado (para confirmar que hay tablas)\n",
        "print(\"¿Hay '<tr>' en el HTML descargado?\", \"<tr\" in src)\n",
        "\n",
        "# Muestra los primeros 500 caracteres del HTML para tener una idea de su estructura inicial\n",
        "print(\"Primeros 500 caracteres:\\n\", src[:500])\n"
      ]
    },
    {
      "cell_type": "code",
      "source": [
        "pip install selenium  # Instala la librería Selenium, que permite automatizar la interacción con navegadores web para pruebas o scraping dinámico.\n"
      ],
      "metadata": {
        "colab": {
          "base_uri": "https://localhost:8080/"
        },
        "id": "NNPusgIzWtOB",
        "outputId": "c0b37c9b-c1ce-481f-e69b-071feb8e856f"
      },
      "execution_count": null,
      "outputs": [
        {
          "output_type": "stream",
          "name": "stdout",
          "text": [
            "Requirement already satisfied: selenium in /usr/local/lib/python3.11/dist-packages (4.34.2)\n",
            "Requirement already satisfied: urllib3~=2.5.0 in /usr/local/lib/python3.11/dist-packages (from urllib3[socks]~=2.5.0->selenium) (2.5.0)\n",
            "Requirement already satisfied: trio~=0.30.0 in /usr/local/lib/python3.11/dist-packages (from selenium) (0.30.0)\n",
            "Requirement already satisfied: trio-websocket~=0.12.2 in /usr/local/lib/python3.11/dist-packages (from selenium) (0.12.2)\n",
            "Requirement already satisfied: certifi>=2025.6.15 in /usr/local/lib/python3.11/dist-packages (from selenium) (2025.7.14)\n",
            "Requirement already satisfied: typing_extensions~=4.14.0 in /usr/local/lib/python3.11/dist-packages (from selenium) (4.14.1)\n",
            "Requirement already satisfied: websocket-client~=1.8.0 in /usr/local/lib/python3.11/dist-packages (from selenium) (1.8.0)\n",
            "Requirement already satisfied: attrs>=23.2.0 in /usr/local/lib/python3.11/dist-packages (from trio~=0.30.0->selenium) (25.3.0)\n",
            "Requirement already satisfied: sortedcontainers in /usr/local/lib/python3.11/dist-packages (from trio~=0.30.0->selenium) (2.4.0)\n",
            "Requirement already satisfied: idna in /usr/local/lib/python3.11/dist-packages (from trio~=0.30.0->selenium) (3.10)\n",
            "Requirement already satisfied: outcome in /usr/local/lib/python3.11/dist-packages (from trio~=0.30.0->selenium) (1.3.0.post0)\n",
            "Requirement already satisfied: sniffio>=1.3.0 in /usr/local/lib/python3.11/dist-packages (from trio~=0.30.0->selenium) (1.3.1)\n",
            "Requirement already satisfied: wsproto>=0.14 in /usr/local/lib/python3.11/dist-packages (from trio-websocket~=0.12.2->selenium) (1.2.0)\n",
            "Requirement already satisfied: pysocks!=1.5.7,<2.0,>=1.5.6 in /usr/local/lib/python3.11/dist-packages (from urllib3[socks]~=2.5.0->selenium) (1.7.1)\n",
            "Requirement already satisfied: h11<1,>=0.9.0 in /usr/local/lib/python3.11/dist-packages (from wsproto>=0.14->trio-websocket~=0.12.2->selenium) (0.16.0)\n"
          ]
        }
      ]
    },
    {
      "cell_type": "code",
      "source": [
        "from selenium import webdriver\n",
        "from selenium.webdriver.chrome.options import Options  # Para configurar opciones del navegador Chrome\n",
        "from bs4 import BeautifulSoup\n",
        "import time\n",
        "\n",
        "# Configura opciones para Chrome\n",
        "chrome_options = Options()\n",
        "chrome_options.add_argument('--no-sandbox')  # Evita problemas de permisos en algunos entornos\n",
        "chrome_options.add_argument('--headless')  # Ejecuta Chrome sin abrir ventana visible (modo invisible)\n",
        "chrome_options.add_argument('--disable-dev-shm-usage')  # Evita errores en sistemas con poca memoria compartida\n",
        "\n",
        "# Crea el navegador Chrome con las opciones indicadas\n",
        "driver = webdriver.Chrome(options=chrome_options)\n",
        "\n",
        "try:\n",
        "    # Carga la página web con contenido dinámico que queremos analizar\n",
        "    driver.get('https://ilga.gov/Legislation/BillStatus?DocNum=818&DocTypeID=HR&GA=101&GAID=9&LegID=34456&SessionID=51')\n",
        "\n",
        "    # Pausa 5 segundos para esperar que el contenido cargue completamente con JavaScript\n",
        "    time.sleep(5)\n",
        "\n",
        "    # Obtiene el código HTML ya renderizado, incluyendo contenido generado por JS\n",
        "    html = driver.page_source\n",
        "\n",
        "    # Usa BeautifulSoup para analizar el HTML obtenido\n",
        "    soup = BeautifulSoup(html, 'lxml')\n",
        "\n",
        "    # Busca todas las filas de tabla (<tr>) en el HTML\n",
        "    rows = soup.find_all(\"tr\")\n",
        "\n",
        "    # Imprime la cantidad de filas encontradas\n",
        "    print(f\"Número de filas encontradas: {len(rows)}\")\n",
        "\n",
        "except Exception as e:\n",
        "    # En caso de error, imprime qué pasó\n",
        "    print(f\"An error occurred: {e}\")\n",
        "\n",
        "finally:\n",
        "    # Cierra el navegador para liberar recursos\n",
        "    driver.quit()\n"
      ],
      "metadata": {
        "colab": {
          "base_uri": "https://localhost:8080/"
        },
        "id": "0NUOnkbbWrFE",
        "outputId": "53c63375-f118-4d36-850b-8650a3dc590d"
      },
      "execution_count": null,
      "outputs": [
        {
          "output_type": "stream",
          "name": "stdout",
          "text": [
            "Número de filas encontradas: 18\n"
          ]
        }
      ]
    },
    {
      "cell_type": "markdown",
      "metadata": {
        "id": "ta76lBefayks"
      },
      "source": [
        "⚠️ **Warning**: Keep in mind: `find_all` gets *all* the elements with the `tr` tag. We only want some of them. If we use the 'Inspect' function in Google Chrome and look carefully, then we can use some CSS selectors to get just the rows we're interested in. Specifically, we want the inner rows of the table:"
      ]
    },
    {
      "cell_type": "code",
      "execution_count": null,
      "metadata": {
        "id": "1pXM9KmUayks"
      },
      "outputs": [],
      "source": [
        "# Returns every ‘tr tr tr’ css selector in the page\n",
        "# rows = soup.select('tr tr tr')\n",
        "\n",
        "# for row in rows[:5]:\n",
        "    #print(row, '\\n')"
      ]
    },
    {
      "cell_type": "markdown",
      "source": [
        "Este codigo no encuentra etiquetas anidadas dentro de otras tr tres niveles profundos."
      ],
      "metadata": {
        "id": "yBInLxS4bQED"
      }
    },
    {
      "cell_type": "code",
      "source": [
        "# Selecciona todas las filas (<tr>) que estén dentro de cualquier tabla (<table>)\n",
        "rows = soup.select('table tr')\n",
        "print(f\"Número de filas encontradas: {len(rows)}\")\n",
        "\n",
        "# Si se encontraron filas, imprime las primeras 5 con formato legible\n",
        "if rows:\n",
        "    for row in rows[:5]:\n",
        "        print(row.prettify(), '\\n')\n",
        "else:\n",
        "    # Si no hay filas, avisa que no se encontraron <tr>\n",
        "    print(\"No se encontraron filas <tr> en la página.\")\n"
      ],
      "metadata": {
        "colab": {
          "base_uri": "https://localhost:8080/"
        },
        "id": "1kwXhGYlZ9Ce",
        "outputId": "4d97d6c6-dfa6-4d38-cf3d-9ea535c65e88"
      },
      "execution_count": null,
      "outputs": [
        {
          "output_type": "stream",
          "name": "stdout",
          "text": [
            "Número de filas encontradas: 18\n",
            "<tr>\n",
            " <th>\n",
            "  Date\n",
            " </th>\n",
            " <th>\n",
            "  Chamber\n",
            " </th>\n",
            " <th>\n",
            "  Action\n",
            " </th>\n",
            "</tr>\n",
            " \n",
            "\n",
            "<tr>\n",
            " <td align=\"left\" class=\"content\" valign=\"top\" width=\"13%\">\n",
            "  11/02/2007\n",
            " </td>\n",
            " <td align=\"left\" class=\"content\" valign=\"top\" width=\"12%\">\n",
            "  House\n",
            " </td>\n",
            " <td align=\"left\" class=\"content\" valign=\"top\" width=\"75%\">\n",
            "  Filed with the Clerk by\n",
            "  <a href=\"../../house/members/details/1307\">\n",
            "   Rep. Daniel V. Beiser\n",
            "  </a>\n",
            " </td>\n",
            "</tr>\n",
            " \n",
            "\n",
            "<tr>\n",
            " <td align=\"left\" class=\"content\" valign=\"top\" width=\"13%\">\n",
            "  11/07/2007\n",
            " </td>\n",
            " <td align=\"left\" class=\"content\" valign=\"top\" width=\"12%\">\n",
            "  House\n",
            " </td>\n",
            " <td align=\"left\" class=\"content\" valign=\"top\" width=\"75%\">\n",
            "  Added Chief Co-Sponsor\n",
            "  <a href=\"../../house/members/details/1291\">\n",
            "   Rep. John E. Bradley\n",
            "  </a>\n",
            " </td>\n",
            "</tr>\n",
            " \n",
            "\n",
            "<tr>\n",
            " <td align=\"left\" class=\"content\" valign=\"top\" width=\"13%\">\n",
            "  11/07/2007\n",
            " </td>\n",
            " <td align=\"left\" class=\"content\" valign=\"top\" width=\"12%\">\n",
            "  House\n",
            " </td>\n",
            " <td align=\"left\" class=\"content\" valign=\"top\" width=\"75%\">\n",
            "  Added Chief Co-Sponsor\n",
            "  <a href=\"../../house/members/details/1286\">\n",
            "   Rep. Robert F. Flider\n",
            "  </a>\n",
            " </td>\n",
            "</tr>\n",
            " \n",
            "\n",
            "<tr>\n",
            " <td align=\"left\" class=\"content\" valign=\"top\" width=\"13%\">\n",
            "  11/07/2007\n",
            " </td>\n",
            " <td align=\"left\" class=\"content\" valign=\"top\" width=\"12%\">\n",
            "  House\n",
            " </td>\n",
            " <td align=\"left\" class=\"content\" valign=\"top\" width=\"75%\">\n",
            "  Added Chief Co-Sponsor\n",
            "  <a href=\"../../house/members/details/1347\">\n",
            "   Rep. Elizabeth Hernandez\n",
            "  </a>\n",
            " </td>\n",
            "</tr>\n",
            " \n",
            "\n"
          ]
        }
      ]
    },
    {
      "cell_type": "markdown",
      "metadata": {
        "id": "118qTAcYaykt"
      },
      "source": [
        "It looks like we want everything after the first two rows. Let's work with a single row to start, and build our loop from there."
      ]
    },
    {
      "cell_type": "code",
      "execution_count": null,
      "metadata": {
        "id": "xxAE1PwMaykt",
        "colab": {
          "base_uri": "https://localhost:8080/"
        },
        "outputId": "b42266b7-da38-4110-dfe6-3b16e4cde056"
      },
      "outputs": [
        {
          "output_type": "stream",
          "name": "stdout",
          "text": [
            "<tr>\n",
            " <td align=\"left\" class=\"content\" valign=\"top\" width=\"13%\">\n",
            "  11/07/2007\n",
            " </td>\n",
            " <td align=\"left\" class=\"content\" valign=\"top\" width=\"12%\">\n",
            "  House\n",
            " </td>\n",
            " <td align=\"left\" class=\"content\" valign=\"top\" width=\"75%\">\n",
            "  Added Chief Co-Sponsor\n",
            "  <a href=\"../../house/members/details/1291\">\n",
            "   Rep. John E. Bradley\n",
            "  </a>\n",
            " </td>\n",
            "</tr>\n",
            "\n"
          ]
        }
      ],
      "source": [
        "# Toma la tercera fila de la lista de filas encontradas (índice 2)\n",
        "example_row = rows[2]\n",
        "\n",
        "# Imprime esa fila con formato legible para entender su estructura HTML\n",
        "print(example_row.prettify())\n"
      ]
    },
    {
      "cell_type": "markdown",
      "source": [
        "Este codigo imprime 3 filas 0 1 2"
      ],
      "metadata": {
        "id": "OW2jI0dicY4c"
      }
    },
    {
      "cell_type": "markdown",
      "metadata": {
        "id": "fmdlipGnaykt"
      },
      "source": [
        "Let's break this row down into its component cells/columns using the `select` method with CSS selectors. Looking closely at the HTML, there are a couple of ways we could do this.\n",
        "\n",
        "* We could identify the cells by their tag `td`.\n",
        "* We could use the the class name `.detail`.\n",
        "* We could combine both and use the selector `td.detail`."
      ]
    },
    {
      "cell_type": "code",
      "execution_count": null,
      "metadata": {
        "id": "UCSc-cTuaykt",
        "colab": {
          "base_uri": "https://localhost:8080/"
        },
        "outputId": "9c8c1fa1-3b40-42b3-f134-333e5e63cddd"
      },
      "outputs": [
        {
          "output_type": "stream",
          "name": "stdout",
          "text": [
            "<td align=\"left\" class=\"content\" valign=\"top\" width=\"13%\">\n",
            "11/07/2007                                        </td>\n",
            "<td align=\"left\" class=\"content\" valign=\"top\" width=\"12%\">\n",
            "House                                        </td>\n",
            "<td align=\"left\" class=\"content\" valign=\"top\" width=\"75%\">\n",
            "Added Chief Co-Sponsor <a href=\"../../house/members/details/1291\">Rep. John E. Bradley</a></td>\n",
            "\n",
            "<td align=\"left\" class=\"content\" valign=\"top\" width=\"13%\">\n",
            "11/07/2007                                        </td>\n",
            "<td align=\"left\" class=\"content\" valign=\"top\" width=\"12%\">\n",
            "House                                        </td>\n",
            "<td align=\"left\" class=\"content\" valign=\"top\" width=\"75%\">\n",
            "Added Chief Co-Sponsor <a href=\"../../house/members/details/1291\">Rep. John E. Bradley</a></td>\n",
            "\n",
            "<td align=\"left\" class=\"content\" valign=\"top\" width=\"13%\">\n",
            "11/07/2007                                        </td>\n",
            "<td align=\"left\" class=\"content\" valign=\"top\" width=\"12%\">\n",
            "House                                        </td>\n",
            "<td align=\"left\" class=\"content\" valign=\"top\" width=\"75%\">\n",
            "Added Chief Co-Sponsor <a href=\"../../house/members/details/1291\">Rep. John E. Bradley</a></td>\n",
            "\n"
          ]
        }
      ],
      "source": [
        "# Recorre todas las celdas (<td>) dentro de la fila ejemplo y las imprime\n",
        "for cell in example_row.select('td'):\n",
        "    print(cell)\n",
        "print()\n",
        "\n",
        "# Busca y muestra todos los elementos dentro de la fila que tienen la clase 'content'\n",
        "for cell in example_row.select('.content'):\n",
        "    print(cell)\n",
        "print()\n",
        "\n",
        "# Busca y muestra solo las celdas <td> que además tengan la clase 'content'\n",
        "for cell in example_row.select('td.content'):\n",
        "    print(cell)\n",
        "print()\n"
      ]
    },
    {
      "cell_type": "markdown",
      "metadata": {
        "id": "TXCzwNv4aykt"
      },
      "source": [
        "We can confirm that these are all the same."
      ]
    },
    {
      "cell_type": "code",
      "execution_count": null,
      "metadata": {
        "tags": [],
        "id": "bmv_ZLMNaykt"
      },
      "outputs": [],
      "source": [
        "# Verifica que las tres formas de seleccionar elementos dentro de example_row sean exactamente iguales\n",
        "# Esto asegura que todos los <td> tienen la clase 'content' y que la selección es consistente\n",
        "assert example_row.select('td') == example_row.select('.content') == example_row.select('td.content')\n"
      ]
    },
    {
      "cell_type": "markdown",
      "metadata": {
        "id": "-8JqW7CBaykt"
      },
      "source": [
        "Let's use the selector `td.detail` to be as specific as possible."
      ]
    },
    {
      "cell_type": "code",
      "execution_count": null,
      "metadata": {
        "id": "2-MeTwXwaykt",
        "colab": {
          "base_uri": "https://localhost:8080/"
        },
        "outputId": "51e2ead3-cdef-4610-91bd-ded824928511"
      },
      "outputs": [
        {
          "output_type": "execute_result",
          "data": {
            "text/plain": [
              "[<td align=\"left\" class=\"content\" valign=\"top\" width=\"13%\">\n",
              " 11/07/2007                                        </td>,\n",
              " <td align=\"left\" class=\"content\" valign=\"top\" width=\"12%\">\n",
              " House                                        </td>,\n",
              " <td align=\"left\" class=\"content\" valign=\"top\" width=\"75%\">\n",
              " Added Chief Co-Sponsor <a href=\"../../house/members/details/1291\">Rep. John E. Bradley</a></td>]"
            ]
          },
          "metadata": {},
          "execution_count": 278
        }
      ],
      "source": [
        "# Selecciona solo las celdas <td> que tienen la clase 'content' dentro de example_row\n",
        "detail_cells = example_row.select('td.content')\n",
        "\n",
        "# Muestra la lista de celdas encontradas\n",
        "detail_cells\n"
      ]
    },
    {
      "cell_type": "markdown",
      "metadata": {
        "id": "lI6Xp9uGaykt"
      },
      "source": [
        "Most of the time, we're interested in the actual **text** of a website, not its tags. Recall that to get the text of an HTML element, we use the `text` member:"
      ]
    },
    {
      "cell_type": "code",
      "execution_count": null,
      "metadata": {
        "id": "ZqvMUEuVaykt",
        "colab": {
          "base_uri": "https://localhost:8080/"
        },
        "outputId": "310d232b-1ed9-4087-9981-3712e6117b56"
      },
      "outputs": [
        {
          "output_type": "stream",
          "name": "stdout",
          "text": [
            "['\\n11/07/2007                                        ', '\\nHouse                                        ', '\\nAdded Chief Co-Sponsor Rep. John E. Bradley']\n"
          ]
        }
      ],
      "source": [
        "# Extrae solo el texto de cada celda que tiene clase 'content' y lo guarda en una lista\n",
        "row_data = [cell.text for cell in detail_cells]\n",
        "\n",
        "# Imprime la lista con el texto de cada celda para ver los datos limpios\n",
        "print(row_data)\n"
      ]
    },
    {
      "cell_type": "markdown",
      "metadata": {
        "id": "-HsSsX1Zayku"
      },
      "source": [
        "Looks good! Now we just use our basic Python knowledge to get the elements of this list that we want. Remember, we want the senator's name, their district, and their party."
      ]
    },
    {
      "cell_type": "code",
      "execution_count": null,
      "metadata": {
        "id": "ilhAkeHSayku",
        "colab": {
          "base_uri": "https://localhost:8080/"
        },
        "outputId": "27868c5a-7357-4bb9-b863-c85e379a2c4b"
      },
      "outputs": [
        {
          "output_type": "stream",
          "name": "stdout",
          "text": [
            "\n",
            "11/07/2007                                        \n",
            "\n",
            "House                                        \n",
            "\n",
            "Added Chief Co-Sponsor Rep. John E. Bradley\n"
          ]
        }
      ],
      "source": [
        "# Imprime el primer valor del texto, que corresponde al Nombre\n",
        "print(row_data[0])  # Name\n",
        "\n",
        "# Imprime el segundo valor, que corresponde al Distrito\n",
        "print(row_data[1])  # District\n",
        "\n",
        "# Imprime el tercer valor, que corresponde al Partido Político\n",
        "print(row_data[2])  # Party\n"
      ]
    },
    {
      "cell_type": "markdown",
      "metadata": {
        "id": "Yr7W24AZayku"
      },
      "source": [
        "## Getting Rid of Junk Rows\n",
        "\n",
        "We saw at the beginning that not all of the rows we got actually correspond to a senator. We'll need to do some cleaning before we can proceed forward. Take a look at some examples:"
      ]
    },
    {
      "cell_type": "code",
      "execution_count": null,
      "metadata": {
        "id": "XDLGr036ayku",
        "colab": {
          "base_uri": "https://localhost:8080/"
        },
        "outputId": "bbd261ba-51a9-43b2-8caa-bbbeb006e2f5"
      },
      "outputs": [
        {
          "output_type": "stream",
          "name": "stdout",
          "text": [
            "Row 0:\n",
            " <tr>\n",
            "<th>Date</th>\n",
            "<th>Chamber</th>\n",
            "<th>Action</th>\n",
            "</tr> \n",
            "\n",
            "Row 1:\n",
            " <tr>\n",
            "<td align=\"left\" class=\"content\" valign=\"top\" width=\"13%\">\n",
            "11/02/2007                                        </td>\n",
            "<td align=\"left\" class=\"content\" valign=\"top\" width=\"12%\">\n",
            "House                                        </td>\n",
            "<td align=\"left\" class=\"content\" valign=\"top\" width=\"75%\">\n",
            "Filed with the Clerk by <a href=\"../../house/members/details/1307\">Rep. Daniel V. Beiser</a></td></tr> \n",
            "\n",
            "Last Row:\n",
            " <tr>\n",
            "<td align=\"left\" class=\"content\" valign=\"top\" width=\"13%\">\n",
            "<b>5/19/2008</b>\n",
            "</td>\n",
            "<td align=\"left\" class=\"content\" valign=\"top\" width=\"12%\">\n",
            "<b>House</b>\n",
            "</td>\n",
            "<td align=\"left\" class=\"content\" valign=\"top\" width=\"75%\">\n",
            "<b>Tabled By Sponsor <a href=\"../../house/members/details/1307\">Rep. Daniel V. Beiser</a></b>\n",
            "</td></tr>\n"
          ]
        }
      ],
      "source": [
        "# Imprime el contenido HTML completo de la primera fila (fila 0)\n",
        "print('Row 0:\\n', rows[0], '\\n')\n",
        "\n",
        "# Imprime el contenido HTML completo de la segunda fila (fila 1)\n",
        "print('Row 1:\\n', rows[1], '\\n')\n",
        "\n",
        "# Imprime el contenido HTML completo de la última fila de la tabla\n",
        "print('Last Row:\\n', rows[-1])\n"
      ]
    },
    {
      "cell_type": "markdown",
      "metadata": {
        "id": "D9XSE5Auayku"
      },
      "source": [
        "When we write our for loop, we only want it to apply to the relevant rows. So we'll need to filter out the irrelevant rows. The way to do this is to compare some of these to the rows we do want, see how they differ, and then formulate that in a conditional.\n",
        "\n",
        "As you can imagine, there a lot of possible ways to do this, and it'll depend on the website. We'll show some here to give you an idea of how to do this."
      ]
    },
    {
      "cell_type": "code",
      "execution_count": null,
      "metadata": {
        "id": "u02zzmG5ayku",
        "colab": {
          "base_uri": "https://localhost:8080/"
        },
        "outputId": "219ed99e-816b-493e-f7b3-d8a59fe0835a"
      },
      "outputs": [
        {
          "output_type": "stream",
          "name": "stdout",
          "text": [
            "7\n",
            "6\n",
            "6\n",
            "6\n"
          ]
        }
      ],
      "source": [
        "# Muestra la cantidad de elementos (por ejemplo, celdas) que contiene la fila 0, considerada \"mala\" (posiblemente vacía o diferente)\n",
        "print(len(rows[0]))\n",
        "\n",
        "# Muestra la cantidad de elementos que contiene la fila 1, también considerada \"mala\"\n",
        "print(len(rows[1]))\n",
        "\n",
        "# Muestra la cantidad de elementos que contiene la fila 2, considerada \"buena\" (con datos esperados)\n",
        "print(len(rows[2]))\n",
        "\n",
        "# Muestra la cantidad de elementos que contiene la fila 3, considerada \"buena\"\n",
        "print(len(rows[3]))\n"
      ]
    },
    {
      "cell_type": "markdown",
      "metadata": {
        "id": "ExNEtUFKayku"
      },
      "source": [
        "Perhaps good rows have a length of 5. Let's check:"
      ]
    },
    {
      "cell_type": "code",
      "execution_count": null,
      "metadata": {
        "id": "RaCkPerHayku",
        "colab": {
          "base_uri": "https://localhost:8080/"
        },
        "outputId": "52d58575-b3d9-41c6-a137-d7352dc42e55"
      },
      "outputs": [
        {
          "output_type": "stream",
          "name": "stdout",
          "text": [
            "Filas con 3 celdas encontradas: 17\n",
            "\n",
            "<tr>\n",
            " <td align=\"left\" class=\"content\" valign=\"top\" width=\"13%\">\n",
            "  11/02/2007\n",
            " </td>\n",
            " <td align=\"left\" class=\"content\" valign=\"top\" width=\"12%\">\n",
            "  House\n",
            " </td>\n",
            " <td align=\"left\" class=\"content\" valign=\"top\" width=\"75%\">\n",
            "  Filed with the Clerk by\n",
            "  <a href=\"../../house/members/details/1307\">\n",
            "   Rep. Daniel V. Beiser\n",
            "  </a>\n",
            " </td>\n",
            "</tr>\n",
            " \n",
            "\n",
            "<tr>\n",
            " <td align=\"left\" class=\"content\" valign=\"top\" width=\"13%\">\n",
            "  5/19/2008\n",
            " </td>\n",
            " <td align=\"left\" class=\"content\" valign=\"top\" width=\"12%\">\n",
            "  House\n",
            " </td>\n",
            " <td align=\"left\" class=\"content\" valign=\"top\" width=\"75%\">\n",
            "  Motion Prevailed\n",
            " </td>\n",
            "</tr>\n",
            " \n",
            "\n",
            "<tr>\n",
            " <td align=\"left\" class=\"content\" valign=\"top\" width=\"13%\">\n",
            "  <b>\n",
            "   5/19/2008\n",
            "  </b>\n",
            " </td>\n",
            " <td align=\"left\" class=\"content\" valign=\"top\" width=\"12%\">\n",
            "  <b>\n",
            "   House\n",
            "  </b>\n",
            " </td>\n",
            " <td align=\"left\" class=\"content\" valign=\"top\" width=\"75%\">\n",
            "  <b>\n",
            "   Tabled By Sponsor\n",
            "   <a href=\"../../house/members/details/1307\">\n",
            "    Rep. Daniel V. Beiser\n",
            "   </a>\n",
            "  </b>\n",
            " </td>\n",
            "</tr>\n",
            "\n"
          ]
        }
      ],
      "source": [
        "# Crea una lista con solo las filas que tienen exactamente 3 celdas <td>, descartando filas con estructura diferente\n",
        "good_rows = [row for row in rows if len(row.find_all('td')) == 3]\n",
        "\n",
        "# Imprime cuántas filas con 3 celdas se encontraron en total\n",
        "print(f\"Filas con 3 celdas encontradas: {len(good_rows)}\\n\")\n",
        "\n",
        "# Muestra la primera fila bien formada con formato legible\n",
        "print(good_rows[0].prettify(), '\\n')\n",
        "\n",
        "# Muestra la penúltima fila bien formada\n",
        "print(good_rows[-2].prettify(), '\\n')\n",
        "\n",
        "# Muestra la última fila bien formada\n",
        "print(good_rows[-1].prettify())\n"
      ]
    },
    {
      "cell_type": "markdown",
      "metadata": {
        "id": "FtgX9RDQayku"
      },
      "source": [
        "We found a footer row in our list that we'd like to avoid. Let's try something else:"
      ]
    },
    {
      "cell_type": "code",
      "execution_count": null,
      "metadata": {
        "id": "N0pWf-2Zayku",
        "colab": {
          "base_uri": "https://localhost:8080/"
        },
        "outputId": "a02fd694-5513-4e72-dffe-14fefb2a52d9"
      },
      "outputs": [
        {
          "output_type": "execute_result",
          "data": {
            "text/plain": [
              "[<td align=\"left\" class=\"content\" valign=\"top\" width=\"13%\">\n",
              " 11/07/2007                                        </td>,\n",
              " <td align=\"left\" class=\"content\" valign=\"top\" width=\"12%\">\n",
              " House                                        </td>,\n",
              " <td align=\"left\" class=\"content\" valign=\"top\" width=\"75%\">\n",
              " Added Chief Co-Sponsor <a href=\"../../house/members/details/1291\">Rep. John E. Bradley</a></td>]"
            ]
          },
          "metadata": {},
          "execution_count": 284
        }
      ],
      "source": [
        "# Selecciona todas las celdas <td> con la clase 'content' dentro de la tercera fila (índice 2)\n",
        "rows[2].select('td.content')\n"
      ]
    },
    {
      "cell_type": "code",
      "execution_count": null,
      "metadata": {
        "id": "7YP4AXOPayku",
        "colab": {
          "base_uri": "https://localhost:8080/"
        },
        "outputId": "de63711f-9feb-40cb-90b9-887e391b46ef"
      },
      "outputs": [
        {
          "output_type": "stream",
          "name": "stdout",
          "text": [
            "[<td align=\"left\" class=\"content\" valign=\"top\" width=\"13%\">\n",
            "<b>5/19/2008</b>\n",
            "</td>, <td align=\"left\" class=\"content\" valign=\"top\" width=\"12%\">\n",
            "<b>House</b>\n",
            "</td>, <td align=\"left\" class=\"content\" valign=\"top\" width=\"75%\">\n",
            "<b>Tabled By Sponsor <a href=\"../../house/members/details/1307\">Rep. Daniel V. Beiser</a></b>\n",
            "</td>] \n",
            "\n",
            "[<td align=\"left\" class=\"content\" valign=\"top\" width=\"13%\">\n",
            "11/07/2007                                        </td>, <td align=\"left\" class=\"content\" valign=\"top\" width=\"12%\">\n",
            "House                                        </td>, <td align=\"left\" class=\"content\" valign=\"top\" width=\"75%\">\n",
            "Added Chief Co-Sponsor <a href=\"../../house/members/details/1348\">Rep. Fred Crespo</a></td>] \n",
            "\n",
            "Checking rows...\n",
            "\n",
            "<tr>\n",
            "<td align=\"left\" class=\"content\" valign=\"top\" width=\"13%\">\n",
            "11/02/2007                                        </td>\n",
            "<td align=\"left\" class=\"content\" valign=\"top\" width=\"12%\">\n",
            "House                                        </td>\n",
            "<td align=\"left\" class=\"content\" valign=\"top\" width=\"75%\">\n",
            "Filed with the Clerk by <a href=\"../../house/members/details/1307\">Rep. Daniel V. Beiser</a></td></tr> \n",
            "\n",
            "<tr>\n",
            "<td align=\"left\" class=\"content\" valign=\"top\" width=\"13%\">\n",
            "<b>5/19/2008</b>\n",
            "</td>\n",
            "<td align=\"left\" class=\"content\" valign=\"top\" width=\"12%\">\n",
            "<b>House</b>\n",
            "</td>\n",
            "<td align=\"left\" class=\"content\" valign=\"top\" width=\"75%\">\n",
            "<b>Tabled By Sponsor <a href=\"../../house/members/details/1307\">Rep. Daniel V. Beiser</a></b>\n",
            "</td></tr>\n"
          ]
        }
      ],
      "source": [
        "# Muestra las celdas <td> con clase 'content' de la última fila, considerada \"mala\" porque posiblemente no tenga datos válidos\n",
        "print(rows[-1].select('td.content'), '\\n')\n",
        "\n",
        "# Muestra las celdas <td> con clase 'content' de la fila en la posición 5, considerada \"buena\"\n",
        "print(rows[5].select('td.content'), '\\n')\n",
        "\n",
        "# Filtra todas las filas que tengan al menos una celda <td> con clase 'content', para quedarnos solo con filas válidas\n",
        "good_rows = [row for row in rows if row.select('td.content')]\n",
        "\n",
        "print(\"Checking rows...\\n\")\n",
        "\n",
        "# Muestra la primera fila válida encontrada\n",
        "print(good_rows[0], '\\n')\n",
        "\n",
        "# Muestra la última fila válida encontrada\n",
        "print(good_rows[-1])\n"
      ]
    },
    {
      "cell_type": "markdown",
      "metadata": {
        "id": "xahA2lxhayku"
      },
      "source": [
        "Looks like we found something that worked!"
      ]
    },
    {
      "cell_type": "markdown",
      "metadata": {
        "id": "HEdxV0eIaykv"
      },
      "source": [
        "## Loop it All Together\n",
        "\n",
        "Now that we've seen how to get the data we want from one row, as well as filter out the rows we don't want, let's put it all together into a loop."
      ]
    },
    {
      "cell_type": "code",
      "execution_count": null,
      "metadata": {
        "tags": [],
        "id": "SDwCBuvzaykv"
      },
      "outputs": [],
      "source": [
        "# Define una lista vacía para almacenar los datos extraídos\n",
        "members = []\n",
        "\n",
        "# Filtra las filas válidas, descartando las que no tienen celdas con clase 'content'\n",
        "valid_rows = [row for row in rows if row.select('td.content')]\n",
        "\n",
        "# Recorre cada fila válida\n",
        "for row in valid_rows:\n",
        "    # Selecciona solo las celdas <td> que tienen la clase 'content'\n",
        "    detail_cells = row.select('td.content')\n",
        "\n",
        "    # Extrae solo el texto de cada celda para obtener los datos limpios\n",
        "    row_data = [cell.text for cell in detail_cells]\n",
        "\n",
        "    # Asigna cada dato a una variable con nombre descriptivo\n",
        "    Date = row_data[0]\n",
        "    Chamber = row_data[1]\n",
        "    Action = row_data[2]\n",
        "\n",
        "    # Crea una tupla con la información de la fila\n",
        "    senator = (Date, Chamber, Action)\n",
        "\n",
        "    # Añade la tupla a la lista de miembros\n",
        "    members.append(senator)\n"
      ]
    },
    {
      "cell_type": "code",
      "execution_count": null,
      "metadata": {
        "id": "75_ndyFzaykv",
        "colab": {
          "base_uri": "https://localhost:8080/"
        },
        "outputId": "5bb92fd5-0853-4ee2-af25-a420d76f53f2"
      },
      "outputs": [
        {
          "output_type": "execute_result",
          "data": {
            "text/plain": [
              "17"
            ]
          },
          "metadata": {},
          "execution_count": 287
        }
      ],
      "source": [
        "# Muestra la cantidad total de registros guardados en la lista 'members'\n",
        "len(members)\n"
      ]
    },
    {
      "cell_type": "markdown",
      "metadata": {
        "id": "seCSRd-gaykv"
      },
      "source": [
        "Let's take a look at what we have in `members`."
      ]
    },
    {
      "cell_type": "code",
      "execution_count": null,
      "metadata": {
        "id": "jX4be6nvaykv",
        "colab": {
          "base_uri": "https://localhost:8080/"
        },
        "outputId": "edbcbbc4-a3f0-4718-a648-861228c1c44b"
      },
      "outputs": [
        {
          "output_type": "stream",
          "name": "stdout",
          "text": [
            "[('\\n11/02/2007                                        ', '\\nHouse                                        ', '\\nFiled with the Clerk by Rep. Daniel V. Beiser'), ('\\n11/07/2007                                        ', '\\nHouse                                        ', '\\nAdded Chief Co-Sponsor Rep. John E. Bradley'), ('\\n11/07/2007                                        ', '\\nHouse                                        ', '\\nAdded Chief Co-Sponsor Rep. Robert F. Flider'), ('\\n11/07/2007                                        ', '\\nHouse                                        ', '\\nAdded Chief Co-Sponsor Rep. Elizabeth Hernandez'), ('\\n11/07/2007                                        ', '\\nHouse                                        ', '\\nAdded Chief Co-Sponsor Rep. Fred Crespo')]\n"
          ]
        }
      ],
      "source": [
        "# Imprime las primeras 5 tuplas almacenadas en la lista 'members' para ver ejemplos de los datos extraídos\n",
        "print(members[:5])\n"
      ]
    },
    {
      "cell_type": "markdown",
      "metadata": {
        "id": "3rxfsGqcaykv"
      },
      "source": [
        "## 🥊  Challenge: Get `href` elements pointing to members' bills\n",
        "\n",
        "The code above retrieves information on:  \n",
        "\n",
        "- the senator's name,\n",
        "- their district number,\n",
        "- and their party.\n",
        "\n",
        "We now want to retrieve the URL for each senator's list of bills. Each URL will follow a specific format.\n",
        "\n",
        "The format for the list of bills for a given senator is:\n",
        "\n",
        "`http://www.ilga.gov/senate/SenatorBills.asp?GA=98&MemberID=[MEMBER_ID]&Primary=True`\n",
        "\n",
        "to get something like:\n",
        "\n",
        "`http://www.ilga.gov/senate/SenatorBills.asp?MemberID=1911&GA=98&Primary=True`\n",
        "\n",
        "in which `MEMBER_ID=1911`.\n",
        "\n",
        "You should be able to see that, unfortunately, `MEMBER_ID` is not currently something pulled out in our scraping code.\n",
        "\n",
        "Your initial task is to modify the code above so that we also **retrieve the full URL which points to the corresponding page of primary-sponsored bills**, for each member, and return it along with their name, district, and party.\n",
        "\n",
        "Tips:\n",
        "\n",
        "* To do this, you will want to get the appropriate anchor element (`<a>`) in each legislator's row of the table. You can again use the `.select()` method on the `row` object in the loop to do this — similar to the command that finds all of the `td.detail` cells in the row. Remember that we only want the link to the legislator's bills, not the committees or the legislator's profile page.\n",
        "* The anchor elements' HTML will look like `<a href=\"/senate/Senator.asp/...\">Bills</a>`. The string in the `href` attribute contains the **relative** link we are after. You can access an attribute of a BeatifulSoup `Tag` object the same way you access a Python dictionary: `anchor['attributeName']`. See the <a href=\"http://www.crummy.com/software/BeautifulSoup/bs4/doc/#tag\">documentation</a> for more details.\n",
        "* There are a _lot_ of different ways to use BeautifulSoup to get things done. whatever you need to do to pull the `href` out is fine.\n",
        "\n",
        "The code has been partially filled out for you. Fill it in where it says `#YOUR CODE HERE`. Save the path into an object called `full_path`."
      ]
    },
    {
      "cell_type": "code",
      "execution_count": null,
      "metadata": {
        "tags": [],
        "id": "D_uTgiqiaykw"
      },
      "outputs": [],
      "source": [
        "# # Make a GET request\n",
        "# req = requests.get('http://www.ilga.gov/senate/default.asp?GA=98')\n",
        "# # Read the content of the server’s response\n",
        "# src = req.text\n",
        "# # Soup it\n",
        "# soup = BeautifulSoup(src, \"lxml\")\n",
        "# # Create empty list to store our data\n",
        "# members = []\n",
        "\n",
        "# # Returns every ‘tr tr tr’ css selector in the page\n",
        "# rows = soup.select('tr tr tr')\n",
        "# # Get rid of junk rows\n",
        "# rows = [row for row in rows if row.select('td.detail')]\n",
        "\n",
        "# # Loop through all rows\n",
        "# for row in rows:\n",
        "#     # Select only those 'td' tags with class 'detail'\n",
        "#     detail_cells = row.select('td.detail')\n",
        "#     # Keep only the text in each of those cells\n",
        "#     row_data = [cell.text for cell in detail_cells]\n",
        "#     # Collect information\n",
        "#     name = row_data[0]\n",
        "#     district = int(row_data[3])\n",
        "#     party = row_data[4]\n",
        "\n",
        "#     # YOUR CODE HERE\n",
        "#     full_path = ''\n",
        "\n",
        "#     # Store in a tuple\n",
        "#     senator = (name, district, party, full_path)\n",
        "#     # Append to list\n",
        "#     members.append(senator)"
      ]
    },
    {
      "cell_type": "code",
      "source": [
        "import requests\n",
        "from bs4 import BeautifulSoup\n",
        "from urllib.parse import urljoin\n",
        "\n",
        "# Hacemos una solicitud GET a la lista actual de senadores del Senado de Illinois\n",
        "url = \"https://www.ilga.gov/Senate/Members/list\"\n",
        "req = requests.get(url)\n",
        "\n",
        "# Parseamos el contenido HTML con BeautifulSoup\n",
        "soup = BeautifulSoup(req.text, \"lxml\")\n",
        "\n",
        "# Creamos una lista para almacenar los datos\n",
        "members = []\n",
        "\n",
        "# Seleccionamos todas las filas (<tr>) de la tabla que contiene la lista de senadores\n",
        "rows = soup.select(\"table tr\")\n",
        "\n",
        "# Iteramos sobre cada fila (ignorando la cabecera si existe)\n",
        "for row in rows:\n",
        "    # Buscamos el primer enlace dentro de la fila (es donde está el nombre del senador)\n",
        "    link = row.find(\"a\", href=True)\n",
        "    if link:\n",
        "        name = link.get_text(strip=True)  # Obtenemos el nombre del senador\n",
        "        relative_href = link[\"href\"]      # Extraemos el href relativo, ej: /Senate/Members/Details/3312\n",
        "        full_url = urljoin(\"https://www.ilga.gov\", relative_href)  # Convertimos a URL completa\n",
        "\n",
        "        # Guardamos los datos en una tupla\n",
        "        member_data = (name, full_url)\n",
        "        members.append(member_data)\n",
        "\n",
        "# Mostramos los resultados\n",
        "for m in members:\n",
        "    print(m)\n"
      ],
      "metadata": {
        "id": "Y-8cbT-YqBbr",
        "outputId": "2bb92a10-3718-4df0-e5fe-0d82a45d00e6",
        "colab": {
          "base_uri": "https://localhost:8080/"
        }
      },
      "execution_count": null,
      "outputs": [
        {
          "output_type": "stream",
          "name": "stdout",
          "text": [
            "('Neil Anderson', 'https://www.ilga.gov/Senate/Members/Details/3312')\n",
            "('Omar Aquino', 'https://www.ilga.gov/Senate/Members/Details/3316')\n",
            "('Li Arellano, Jr.', 'https://www.ilga.gov/Senate/Members/Details/3383')\n",
            "('Chris Balkema', 'https://www.ilga.gov/Senate/Members/Details/3413')\n",
            "('Christopher Belt', 'https://www.ilga.gov/Senate/Members/Details/3337')\n",
            "('Terri Bryant', 'https://www.ilga.gov/Senate/Members/Details/3386')\n",
            "('Cristina Castro', 'https://www.ilga.gov/Senate/Members/Details/3317')\n",
            "('Javier L. Cervantes', 'https://www.ilga.gov/Senate/Members/Details/3403')\n",
            "('Andrew S. Chesney', 'https://www.ilga.gov/Senate/Members/Details/3410')\n",
            "('Lakesia Collins', 'https://www.ilga.gov/Senate/Members/Details/3443')\n",
            "('Bill Cunningham', 'https://www.ilga.gov/Senate/Members/Details/3291')\n",
            "('John F. Curran', 'https://www.ilga.gov/Senate/Members/Details/3329')\n",
            "('Donald P. DeWitte', 'https://www.ilga.gov/Senate/Members/Details/3334')\n",
            "('Mary Edly-Allen', 'https://www.ilga.gov/Senate/Members/Details/3407')\n",
            "('Laura Ellman', 'https://www.ilga.gov/Senate/Members/Details/3339')\n",
            "('Paul Faraci', 'https://www.ilga.gov/Senate/Members/Details/3412')\n",
            "('Sara Feigenholtz', 'https://www.ilga.gov/Senate/Members/Details/3376')\n",
            "('Laura Fine', 'https://www.ilga.gov/Senate/Members/Details/3338')\n",
            "('Dale Fowler', 'https://www.ilga.gov/Senate/Members/Details/3318')\n",
            "('Suzy Glowiak Hilton', 'https://www.ilga.gov/Senate/Members/Details/3341')\n",
            "('Graciela Guzmán', 'https://www.ilga.gov/Senate/Members/Details/3442')\n",
            "('Michael W. Halpin', 'https://www.ilga.gov/Senate/Members/Details/3408')\n",
            "('Don Harmon', 'https://www.ilga.gov/Senate/Members/Details/3268')\n",
            "('Napoleon Harris, III', 'https://www.ilga.gov/Senate/Members/Details/3292')\n",
            "('Erica Harriss', 'https://www.ilga.gov/Senate/Members/Details/3411')\n",
            "('Michael E. Hastings', 'https://www.ilga.gov/Senate/Members/Details/3293')\n",
            "('Darby A. Hills', 'https://www.ilga.gov/Senate/Members/Details/3460')\n",
            "('Linda Holmes', 'https://www.ilga.gov/Senate/Members/Details/3270')\n",
            "('Mattie Hunter', 'https://www.ilga.gov/Senate/Members/Details/3269')\n",
            "('Adriane Johnson', 'https://www.ilga.gov/Senate/Members/Details/3378')\n",
            "('Emil Jones, III', 'https://www.ilga.gov/Senate/Members/Details/3276')\n",
            "('Patrick J. Joyce', 'https://www.ilga.gov/Senate/Members/Details/3372')\n",
            "('David Koehler', 'https://www.ilga.gov/Senate/Members/Details/3271')\n",
            "('Seth Lewis', 'https://www.ilga.gov/Senate/Members/Details/3406')\n",
            "('Kimberly A. Lightford', 'https://www.ilga.gov/Senate/Members/Details/3264')\n",
            "('Meg Loughran Cappel', 'https://www.ilga.gov/Senate/Members/Details/3380')\n",
            "('Robert F. Martwick', 'https://www.ilga.gov/Senate/Members/Details/3369')\n",
            "('Steve McClure', 'https://www.ilga.gov/Senate/Members/Details/3342')\n",
            "('Julie A. Morrison', 'https://www.ilga.gov/Senate/Members/Details/3294')\n",
            "('Laura M. Murphy', 'https://www.ilga.gov/Senate/Members/Details/3313')\n",
            "('Robert Peters', 'https://www.ilga.gov/Senate/Members/Details/3343')\n",
            "('Jason Plummer', 'https://www.ilga.gov/Senate/Members/Details/3344')\n",
            "('Mike Porfirio', 'https://www.ilga.gov/Senate/Members/Details/3404')\n",
            "('Willie Preston', 'https://www.ilga.gov/Senate/Members/Details/3405')\n",
            "('Sue Rezin', 'https://www.ilga.gov/Senate/Members/Details/3281')\n",
            "('Chapin Rose', 'https://www.ilga.gov/Senate/Members/Details/3295')\n",
            "('Mike Simmons', 'https://www.ilga.gov/Senate/Members/Details/3398')\n",
            "('Elgie R. Sims, Jr.', 'https://www.ilga.gov/Senate/Members/Details/3331')\n",
            "('Steve Stadelman', 'https://www.ilga.gov/Senate/Members/Details/3296')\n",
            "('Dave Syverson', 'https://www.ilga.gov/Senate/Members/Details/3265')\n",
            "('Jil Tracy', 'https://www.ilga.gov/Senate/Members/Details/3319')\n",
            "('Doris Turner', 'https://www.ilga.gov/Senate/Members/Details/3399')\n",
            "('Sally J. Turner', 'https://www.ilga.gov/Senate/Members/Details/3397')\n",
            "('Rachel Ventura', 'https://www.ilga.gov/Senate/Members/Details/3409')\n",
            "('Karina Villa', 'https://www.ilga.gov/Senate/Members/Details/3385')\n",
            "('Celina Villanueva', 'https://www.ilga.gov/Senate/Members/Details/3375')\n",
            "('Ram Villivalam', 'https://www.ilga.gov/Senate/Members/Details/3345')\n",
            "('Mark L. Walker', 'https://www.ilga.gov/Senate/Members/Details/3449')\n",
            "('Craig Wilcox', 'https://www.ilga.gov/Senate/Members/Details/3336')\n",
            "('Dan McConchie', 'https://www.ilga.gov/Senate/Members/Details/3315')\n"
          ]
        }
      ]
    },
    {
      "cell_type": "code",
      "execution_count": null,
      "metadata": {
        "tags": [],
        "id": "l-hR7Xojaykw"
      },
      "outputs": [],
      "source": [
        "# Uncomment to test\n",
        "# members[:5]"
      ]
    },
    {
      "cell_type": "markdown",
      "metadata": {
        "id": "px3BTjMDaykw"
      },
      "source": [
        "## 🥊  Challenge: Modularize Your Code\n",
        "\n",
        "Turn the code above into a function that accepts a URL, scrapes the URL for its senators, and returns a list of tuples containing information about each senator."
      ]
    },
    {
      "cell_type": "code",
      "execution_count": null,
      "metadata": {
        "tags": [],
        "id": "EU_wpeaMaykw",
        "outputId": "1dbb7d2a-b67d-4413-88c5-95d0cf3780e6",
        "colab": {
          "base_uri": "https://localhost:8080/"
        }
      },
      "outputs": [
        {
          "output_type": "stream",
          "name": "stdout",
          "text": [
            "Neil Anderson\n",
            "/Senate/Members/Details/3312\n",
            "Omar Aquino\n",
            "/Senate/Members/Details/3316\n",
            "Li Arellano, Jr.\n",
            "/Senate/Members/Details/3383\n",
            "Chris Balkema\n",
            "/Senate/Members/Details/3413\n",
            "Christopher Belt\n",
            "/Senate/Members/Details/3337\n",
            "Terri Bryant\n",
            "/Senate/Members/Details/3386\n",
            "Cristina Castro\n",
            "/Senate/Members/Details/3317\n",
            "Javier L. Cervantes\n",
            "/Senate/Members/Details/3403\n",
            "Andrew S. Chesney\n",
            "/Senate/Members/Details/3410\n",
            "Lakesia Collins\n",
            "/Senate/Members/Details/3443\n",
            "Bill Cunningham\n",
            "/Senate/Members/Details/3291\n",
            "John F. Curran\n",
            "/Senate/Members/Details/3329\n",
            "Donald P. DeWitte\n",
            "/Senate/Members/Details/3334\n",
            "Mary Edly-Allen\n",
            "/Senate/Members/Details/3407\n",
            "Laura Ellman\n",
            "/Senate/Members/Details/3339\n",
            "Paul Faraci\n",
            "/Senate/Members/Details/3412\n",
            "Sara Feigenholtz\n",
            "/Senate/Members/Details/3376\n",
            "Laura Fine\n",
            "/Senate/Members/Details/3338\n",
            "Dale Fowler\n",
            "/Senate/Members/Details/3318\n",
            "Suzy Glowiak Hilton\n",
            "/Senate/Members/Details/3341\n",
            "Graciela Guzmán\n",
            "/Senate/Members/Details/3442\n",
            "Michael W. Halpin\n",
            "/Senate/Members/Details/3408\n",
            "Don Harmon\n",
            "/Senate/Members/Details/3268\n",
            "Napoleon Harris, III\n",
            "/Senate/Members/Details/3292\n",
            "Erica Harriss\n",
            "/Senate/Members/Details/3411\n",
            "Michael E. Hastings\n",
            "/Senate/Members/Details/3293\n",
            "Darby A. Hills\n",
            "/Senate/Members/Details/3460\n",
            "Linda Holmes\n",
            "/Senate/Members/Details/3270\n",
            "Mattie Hunter\n",
            "/Senate/Members/Details/3269\n",
            "Adriane Johnson\n",
            "/Senate/Members/Details/3378\n",
            "Emil Jones, III\n",
            "/Senate/Members/Details/3276\n",
            "Patrick J. Joyce\n",
            "/Senate/Members/Details/3372\n",
            "David Koehler\n",
            "/Senate/Members/Details/3271\n",
            "Seth Lewis\n",
            "/Senate/Members/Details/3406\n",
            "Kimberly A. Lightford\n",
            "/Senate/Members/Details/3264\n",
            "Meg Loughran Cappel\n",
            "/Senate/Members/Details/3380\n",
            "Robert F. Martwick\n",
            "/Senate/Members/Details/3369\n",
            "Steve McClure\n",
            "/Senate/Members/Details/3342\n",
            "Julie A. Morrison\n",
            "/Senate/Members/Details/3294\n",
            "Laura M. Murphy\n",
            "/Senate/Members/Details/3313\n",
            "Robert Peters\n",
            "/Senate/Members/Details/3343\n",
            "Jason Plummer\n",
            "/Senate/Members/Details/3344\n",
            "Mike Porfirio\n",
            "/Senate/Members/Details/3404\n",
            "Willie Preston\n",
            "/Senate/Members/Details/3405\n",
            "Sue Rezin\n",
            "/Senate/Members/Details/3281\n",
            "Chapin Rose\n",
            "/Senate/Members/Details/3295\n",
            "Mike Simmons\n",
            "/Senate/Members/Details/3398\n",
            "Elgie R. Sims, Jr.\n",
            "/Senate/Members/Details/3331\n",
            "Steve Stadelman\n",
            "/Senate/Members/Details/3296\n",
            "Dave Syverson\n",
            "/Senate/Members/Details/3265\n",
            "Jil Tracy\n",
            "/Senate/Members/Details/3319\n",
            "Doris Turner\n",
            "/Senate/Members/Details/3399\n",
            "Sally J. Turner\n",
            "/Senate/Members/Details/3397\n",
            "Rachel Ventura\n",
            "/Senate/Members/Details/3409\n",
            "Karina Villa\n",
            "/Senate/Members/Details/3385\n",
            "Celina Villanueva\n",
            "/Senate/Members/Details/3375\n",
            "Ram Villivalam\n",
            "/Senate/Members/Details/3345\n",
            "Mark L. Walker\n",
            "/Senate/Members/Details/3449\n",
            "Craig Wilcox\n",
            "/Senate/Members/Details/3336\n",
            "Dan McConchie\n",
            "/Senate/Members/Details/3315\n",
            "('Neil Anderson', 'https://www.ilga.gov/Senate/Members/Details/3312')\n",
            "('Omar Aquino', 'https://www.ilga.gov/Senate/Members/Details/3316')\n",
            "('Li Arellano, Jr.', 'https://www.ilga.gov/Senate/Members/Details/3383')\n",
            "('Chris Balkema', 'https://www.ilga.gov/Senate/Members/Details/3413')\n",
            "('Christopher Belt', 'https://www.ilga.gov/Senate/Members/Details/3337')\n",
            "('Terri Bryant', 'https://www.ilga.gov/Senate/Members/Details/3386')\n",
            "('Cristina Castro', 'https://www.ilga.gov/Senate/Members/Details/3317')\n",
            "('Javier L. Cervantes', 'https://www.ilga.gov/Senate/Members/Details/3403')\n",
            "('Andrew S. Chesney', 'https://www.ilga.gov/Senate/Members/Details/3410')\n",
            "('Lakesia Collins', 'https://www.ilga.gov/Senate/Members/Details/3443')\n",
            "('Bill Cunningham', 'https://www.ilga.gov/Senate/Members/Details/3291')\n",
            "('John F. Curran', 'https://www.ilga.gov/Senate/Members/Details/3329')\n",
            "('Donald P. DeWitte', 'https://www.ilga.gov/Senate/Members/Details/3334')\n",
            "('Mary Edly-Allen', 'https://www.ilga.gov/Senate/Members/Details/3407')\n",
            "('Laura Ellman', 'https://www.ilga.gov/Senate/Members/Details/3339')\n",
            "('Paul Faraci', 'https://www.ilga.gov/Senate/Members/Details/3412')\n",
            "('Sara Feigenholtz', 'https://www.ilga.gov/Senate/Members/Details/3376')\n",
            "('Laura Fine', 'https://www.ilga.gov/Senate/Members/Details/3338')\n",
            "('Dale Fowler', 'https://www.ilga.gov/Senate/Members/Details/3318')\n",
            "('Suzy Glowiak Hilton', 'https://www.ilga.gov/Senate/Members/Details/3341')\n",
            "('Graciela Guzmán', 'https://www.ilga.gov/Senate/Members/Details/3442')\n",
            "('Michael W. Halpin', 'https://www.ilga.gov/Senate/Members/Details/3408')\n",
            "('Don Harmon', 'https://www.ilga.gov/Senate/Members/Details/3268')\n",
            "('Napoleon Harris, III', 'https://www.ilga.gov/Senate/Members/Details/3292')\n",
            "('Erica Harriss', 'https://www.ilga.gov/Senate/Members/Details/3411')\n",
            "('Michael E. Hastings', 'https://www.ilga.gov/Senate/Members/Details/3293')\n",
            "('Darby A. Hills', 'https://www.ilga.gov/Senate/Members/Details/3460')\n",
            "('Linda Holmes', 'https://www.ilga.gov/Senate/Members/Details/3270')\n",
            "('Mattie Hunter', 'https://www.ilga.gov/Senate/Members/Details/3269')\n",
            "('Adriane Johnson', 'https://www.ilga.gov/Senate/Members/Details/3378')\n",
            "('Emil Jones, III', 'https://www.ilga.gov/Senate/Members/Details/3276')\n",
            "('Patrick J. Joyce', 'https://www.ilga.gov/Senate/Members/Details/3372')\n",
            "('David Koehler', 'https://www.ilga.gov/Senate/Members/Details/3271')\n",
            "('Seth Lewis', 'https://www.ilga.gov/Senate/Members/Details/3406')\n",
            "('Kimberly A. Lightford', 'https://www.ilga.gov/Senate/Members/Details/3264')\n",
            "('Meg Loughran Cappel', 'https://www.ilga.gov/Senate/Members/Details/3380')\n",
            "('Robert F. Martwick', 'https://www.ilga.gov/Senate/Members/Details/3369')\n",
            "('Steve McClure', 'https://www.ilga.gov/Senate/Members/Details/3342')\n",
            "('Julie A. Morrison', 'https://www.ilga.gov/Senate/Members/Details/3294')\n",
            "('Laura M. Murphy', 'https://www.ilga.gov/Senate/Members/Details/3313')\n",
            "('Robert Peters', 'https://www.ilga.gov/Senate/Members/Details/3343')\n",
            "('Jason Plummer', 'https://www.ilga.gov/Senate/Members/Details/3344')\n",
            "('Mike Porfirio', 'https://www.ilga.gov/Senate/Members/Details/3404')\n",
            "('Willie Preston', 'https://www.ilga.gov/Senate/Members/Details/3405')\n",
            "('Sue Rezin', 'https://www.ilga.gov/Senate/Members/Details/3281')\n",
            "('Chapin Rose', 'https://www.ilga.gov/Senate/Members/Details/3295')\n",
            "('Mike Simmons', 'https://www.ilga.gov/Senate/Members/Details/3398')\n",
            "('Elgie R. Sims, Jr.', 'https://www.ilga.gov/Senate/Members/Details/3331')\n",
            "('Steve Stadelman', 'https://www.ilga.gov/Senate/Members/Details/3296')\n",
            "('Dave Syverson', 'https://www.ilga.gov/Senate/Members/Details/3265')\n",
            "('Jil Tracy', 'https://www.ilga.gov/Senate/Members/Details/3319')\n",
            "('Doris Turner', 'https://www.ilga.gov/Senate/Members/Details/3399')\n",
            "('Sally J. Turner', 'https://www.ilga.gov/Senate/Members/Details/3397')\n",
            "('Rachel Ventura', 'https://www.ilga.gov/Senate/Members/Details/3409')\n",
            "('Karina Villa', 'https://www.ilga.gov/Senate/Members/Details/3385')\n",
            "('Celina Villanueva', 'https://www.ilga.gov/Senate/Members/Details/3375')\n",
            "('Ram Villivalam', 'https://www.ilga.gov/Senate/Members/Details/3345')\n",
            "('Mark L. Walker', 'https://www.ilga.gov/Senate/Members/Details/3449')\n",
            "('Craig Wilcox', 'https://www.ilga.gov/Senate/Members/Details/3336')\n",
            "('Dan McConchie', 'https://www.ilga.gov/Senate/Members/Details/3315')\n"
          ]
        }
      ],
      "source": [
        "import requests\n",
        "from bs4 import BeautifulSoup\n",
        "from urllib.parse import urljoin\n",
        "\n",
        "def get_senators_from_url(url):\n",
        "    \"\"\"\n",
        "    Función que recibe la URL de la lista de senadores del sitio web de ILGA\n",
        "    y devuelve una lista de tuplas (nombre, URL_detalle).\n",
        "\n",
        "    Parámetros:\n",
        "        url (str): URL de la página con la tabla de senadores.\n",
        "\n",
        "    Retorna:\n",
        "        list[tuple]: Lista de tuplas con (nombre, URL completa a detalles)\n",
        "    \"\"\"\n",
        "    try:\n",
        "        # Hacer la solicitud HTTP\n",
        "        response = requests.get(url)\n",
        "        response.raise_for_status()  # Levanta excepción si el estado no es 200\n",
        "\n",
        "        # Parsear el contenido HTML\n",
        "        soup = BeautifulSoup(response.text, \"lxml\")\n",
        "\n",
        "        # Lista donde se almacenan los resultados\n",
        "        members = []\n",
        "\n",
        "        # Buscar todas las filas de la tabla\n",
        "        rows = soup.select(\"table tr\")\n",
        "\n",
        "        for row in rows:\n",
        "            # Buscar el enlace con href dentro de la fila\n",
        "            link = row.find(\"a\", href=True)\n",
        "            if link:\n",
        "                name = link.get_text(strip=True)\n",
        "                print(name)\n",
        "                relative_href = link[\"href\"]\n",
        "                print(relative_href)\n",
        "                full_url = urljoin(url, relative_href)  # Construir URL absoluta\n",
        "\n",
        "                members.append((name, full_url))\n",
        "\n",
        "        return members\n",
        "\n",
        "    except Exception as e:\n",
        "        print(f\"Error al procesar la URL: {e}\")\n",
        "        return []\n",
        "\n",
        "# Ejemplo de uso\n",
        "url = \"https://www.ilga.gov/Senate/Members/list\"\n",
        "senators = get_senators_from_url(url)\n",
        "\n",
        "# Imprimir resultados\n",
        "for senator in senators:\n",
        "    print(senator)\n"
      ]
    },
    {
      "cell_type": "markdown",
      "metadata": {
        "id": "gDTDmFYdaykw"
      },
      "source": [
        "## 🥊 Take-home Challenge: Writing a Scraper Function\n",
        "\n",
        "We want to scrape the webpages corresponding to bills sponsored by each bills.\n",
        "\n",
        "Write a function called `get_bills(url)` to parse a given bills URL. This will involve:\n",
        "\n",
        "  - requesting the URL using the <a href=\"http://docs.python-requests.org/en/latest/\">`requests`</a> library\n",
        "  - using the features of the `BeautifulSoup` library to find all of the `<td>` elements with the class `billlist`\n",
        "  - return a _list_ of tuples, each with:\n",
        "      - description (2nd column)\n",
        "      - chamber (S or H) (3rd column)\n",
        "      - the last action (4th column)\n",
        "      - the last action date (5th column)\n",
        "      \n",
        "This function has been partially completed. Fill in the rest."
      ]
    },
    {
      "cell_type": "code",
      "execution_count": null,
      "metadata": {
        "tags": [],
        "id": "At6AzzDNaykw"
      },
      "outputs": [],
      "source": [
        "import requests\n",
        "from bs4 import BeautifulSoup\n",
        "\n",
        "def get_bills(url):\n",
        "    # Obtener el contenido HTML de la página\n",
        "    src = requests.get(url).text\n",
        "    soup = BeautifulSoup(src, \"lxml\")\n",
        "\n",
        "    # Seleccionar todas las filas de la tabla\n",
        "    rows = soup.select('tr')\n",
        "    bills = []\n",
        "\n",
        "    for row in rows:\n",
        "        # Seleccionamos solo las celdas con clase 'billlist'\n",
        "        cells = row.select('td.billlist')\n",
        "\n",
        "        # Debe haber al menos 5 columnas con clase 'billlist'\n",
        "        if len(cells) >= 5:\n",
        "            bill_id = cells[0].get_text(strip=True)\n",
        "            description = cells[1].get_text(strip=True)\n",
        "            chamber = cells[2].get_text(strip=True)\n",
        "            last_action = cells[3].get_text(strip=True)\n",
        "            last_action_date = cells[4].get_text(strip=True)\n",
        "\n",
        "            # Empaquetamos la tupla\n",
        "            bill = (bill_id, description, chamber, last_action, last_action_date)\n",
        "            bills.append(bill)\n",
        "\n",
        "    return bills\n"
      ]
    },
    {
      "cell_type": "code",
      "execution_count": null,
      "metadata": {
        "tags": [],
        "id": "Cdm6-Susaykw"
      },
      "outputs": [],
      "source": [
        "# Uncomment to test your code\n",
        "# test_url = senate_members[0][3]\n",
        "# get_bills(test_url)[0:5]"
      ]
    },
    {
      "cell_type": "markdown",
      "metadata": {
        "id": "VHNmqYMmaykw"
      },
      "source": [
        "### Scrape All Bills\n",
        "\n",
        "Finally, create a dictionary `bills_dict` which maps a district number (the key) onto a list of bills (the value) coming from that district. You can do this by looping over all of the senate members in `members_dict` and calling `get_bills()` for each of their associated bill URLs.\n",
        "\n",
        "**NOTE:** please call the function `time.sleep(1)` for each iteration of the loop, so that we don't destroy the state's web site."
      ]
    },
    {
      "cell_type": "code",
      "execution_count": null,
      "metadata": {
        "tags": [],
        "id": "xMgnkdYeaykw"
      },
      "outputs": [],
      "source": [
        "# # YOUR CODE HERE\n",
        "# import time\n",
        "\n",
        "# # Simulamos que ya tienes esta lista con nombre, distrito y URL a sus proyectos de ley\n",
        "# # Por ejemplo:\n",
        "# # members = [\n",
        "# #     ('Neil Anderson', 47, 'R', 'https://www.ilga.gov/Senate/SenatorBills.asp?MemberID=3312&GA=103&Primary=True'),\n",
        "# #     ...\n",
        "# # ]\n",
        "\n",
        "# bills_dict = {}\n",
        "\n",
        "# for name, district, party, bills_url in members:\n",
        "#     print(f\"Consultando proyectos de ley para el distrito {district} ({name})...\")\n",
        "\n",
        "#     # Llamamos a la función que obtiene los proyectos de ley\n",
        "#     bills = get_bills(bills_url)\n",
        "\n",
        "#     # Asociamos la lista de bills al distrito correspondiente\n",
        "#     bills_dict[district] = bills\n",
        "\n",
        "#     # Dormimos 1 segundo entre cada petición por respeto al servidor\n",
        "#     time.sleep(1)\n",
        "\n",
        "# # (Opcional) Verificamos los primeros elementos\n",
        "# for district, bills in list(bills_dict.items())[:3]:\n",
        "#     print(f\"\\nDistrito {district} tiene {len(bills)} proyectos de ley:\")\n",
        "#     for bill in bills[:2]:  # Muestra solo los 2 primeros por distrito\n",
        "#         print(\"  ➤\", bill)\n"
      ]
    },
    {
      "cell_type": "markdown",
      "source": [
        "le dejo comentado hasta tener una URL que si funcione para probar y que cumpla con estos parametros."
      ],
      "metadata": {
        "id": "PkJ_qwxdqx_i"
      }
    },
    {
      "cell_type": "code",
      "execution_count": null,
      "metadata": {
        "tags": [],
        "id": "w1fVJKlSaykw"
      },
      "outputs": [],
      "source": [
        "# Uncomment to test your code\n",
        "# bills_dict[52]"
      ]
    }
  ],
  "metadata": {
    "anaconda-cloud": {},
    "kernelspec": {
      "display_name": "Python 3 (ipykernel)",
      "language": "python",
      "name": "python3"
    },
    "language_info": {
      "codemirror_mode": {
        "name": "ipython",
        "version": 3
      },
      "file_extension": ".py",
      "mimetype": "text/x-python",
      "name": "python",
      "nbconvert_exporter": "python",
      "pygments_lexer": "ipython3",
      "version": "3.8.13"
    },
    "vscode": {
      "interpreter": {
        "hash": "b6f9fe9f4b7182690503d8ecc2bae97b0ee3ebf54e877167ae4d28c119a56988"
      }
    },
    "colab": {
      "provenance": [],
      "include_colab_link": true
    }
  },
  "nbformat": 4,
  "nbformat_minor": 0
}